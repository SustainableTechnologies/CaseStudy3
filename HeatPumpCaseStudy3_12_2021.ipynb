{
 "cells": [
  {
   "cell_type": "markdown",
   "metadata": {},
   "source": [
    "# Residential Heat Pump Case Study 3: Hybrid Heating in a Toronto Century Home\n",
    "Created: 12/2021  \n",
    "Erik Janssen, Analyst \n",
    "Sustainable Technologies Evaluation Program (STEP)  \n",
    "Toronto and Region Conservation Authority (TRCA)  \n",
    "\n",
    "## 1 Introduction\n",
    "This Jupyter Notebook was used to analyze the changes in utility consumption pre- and post-retrofit for the hybrid heating  system analyzed in the accompanying case study. The basic process of the analysis is:\n",
    "\n",
    "1) Import utility data pre- and post-retrofit.  \n",
    "\n",
    "2) Estimate current utility rates.\n",
    "\n",
    "3) Create a linear regression model of the pre-retrofit data as a function of heating degree days (HDDs). This is a baseline against which post-retrofit utility consumption is compared.  \n",
    "\n",
    "4) Adjust the baseline as required to ensure a fair comparison with actual post-retrofit data.  \n",
    "\n",
    "5) Estimate the fraction of utility savings from hybrid heating specifically if more than one measure was implemented.  \n",
    "\n",
    "6) Ensure that the utility impacts attributed to the hybrid heating system is reasonable by calculating the average COP from the gas savings and electricity increase. Compare the calculated average COP against a temperature-weighted COP calculated from manufacturer data (i.e. an expected COP). The COP calculated from the utility data should be lower than that expected based on the manufacturer data. Note COP was not explicitly monitoried, this is just to ensure that it is reasonable to attribute a certain gas savings to the ASHP based on how much electricity it consumed.\n",
    "\n",
    "7) Calculate other parameters like cost and carbon savings, and perform any other calculations as required.\n",
    "\n",
    "8) Consider utility implications for carbon pricing scehdule looking out to 2030.\n",
    "\n",
    "\n",
    "\n",
    "## 2 Libraries"
   ]
  },
  {
   "cell_type": "code",
   "execution_count": 5,
   "metadata": {},
   "outputs": [],
   "source": [
    "# Import libraries\n",
    "import pandas as pd\n",
    "import matplotlib.pyplot as plt\n",
    "from datetime import datetime\n",
    "import numpy as np\n",
    "from scipy import stats\n",
    "from sklearn.linear_model import LinearRegression\n",
    "import datetime"
   ]
  },
  {
   "cell_type": "code",
   "execution_count": 6,
   "metadata": {},
   "outputs": [],
   "source": [
    "# Set some basic parameters for plotting and visualizing data\n",
    "font = {'size'   : 16}\n",
    "plt.rc('font', **font)\n",
    "step_blue = \"#00a3af\"\n",
    "step_gold = \"#f8a81d\"\n",
    "pd.set_option('display.max_columns', None)"
   ]
  },
  {
   "cell_type": "markdown",
   "metadata": {},
   "source": [
    "## 3 Import Baseline and Post-Retrofit Utility Data\n",
    "\n",
    "Import the utilty data contained in \".csv\" format. The homeowner obtained the pre-retrofit data from the Enbridge online portal and the electricity data from the Toronto Hydro online portals. Post-retrofit gas data was obtained by inspection of actual meter readings from the gas bills that were shared by the homeowner. A different approach was used for post-retrofit gas consumption data because the data directly downloadable from the Enbridge portal is not complete when there are deep gas savings. The Enbridge bimonthly estimates of gas consumption are off to the extent that credits and reversals are required and these do not show up completely in the downloadable data from the Enbridge portal. Note the retrofit happened in October 2020."
   ]
  },
  {
   "cell_type": "code",
   "execution_count": 7,
   "metadata": {},
   "outputs": [
    {
     "data": {
      "text/html": [
       "<div>\n",
       "<style scoped>\n",
       "    .dataframe tbody tr th:only-of-type {\n",
       "        vertical-align: middle;\n",
       "    }\n",
       "\n",
       "    .dataframe tbody tr th {\n",
       "        vertical-align: top;\n",
       "    }\n",
       "\n",
       "    .dataframe thead th {\n",
       "        text-align: right;\n",
       "    }\n",
       "</style>\n",
       "<table border=\"1\" class=\"dataframe\">\n",
       "  <thead>\n",
       "    <tr style=\"text-align: right;\">\n",
       "      <th></th>\n",
       "      <th>From</th>\n",
       "      <th>To</th>\n",
       "      <th>Start</th>\n",
       "      <th>End</th>\n",
       "      <th>m3</th>\n",
       "    </tr>\n",
       "  </thead>\n",
       "  <tbody>\n",
       "    <tr>\n",
       "      <th>0</th>\n",
       "      <td>2020-09-22</td>\n",
       "      <td>2020-11-19</td>\n",
       "      <td>68637</td>\n",
       "      <td>68696</td>\n",
       "      <td>59</td>\n",
       "    </tr>\n",
       "    <tr>\n",
       "      <th>1</th>\n",
       "      <td>2020-11-20</td>\n",
       "      <td>2021-01-20</td>\n",
       "      <td>68696</td>\n",
       "      <td>68835</td>\n",
       "      <td>139</td>\n",
       "    </tr>\n",
       "    <tr>\n",
       "      <th>2</th>\n",
       "      <td>2021-01-21</td>\n",
       "      <td>2021-03-19</td>\n",
       "      <td>68835</td>\n",
       "      <td>69201</td>\n",
       "      <td>366</td>\n",
       "    </tr>\n",
       "    <tr>\n",
       "      <th>3</th>\n",
       "      <td>2021-03-20</td>\n",
       "      <td>2021-05-19</td>\n",
       "      <td>69201</td>\n",
       "      <td>69230</td>\n",
       "      <td>29</td>\n",
       "    </tr>\n",
       "    <tr>\n",
       "      <th>4</th>\n",
       "      <td>2021-05-20</td>\n",
       "      <td>2021-07-19</td>\n",
       "      <td>69230</td>\n",
       "      <td>69295</td>\n",
       "      <td>65</td>\n",
       "    </tr>\n",
       "  </tbody>\n",
       "</table>\n",
       "</div>"
      ],
      "text/plain": [
       "        From         To  Start    End   m3\n",
       "0 2020-09-22 2020-11-19  68637  68696   59\n",
       "1 2020-11-20 2021-01-20  68696  68835  139\n",
       "2 2021-01-21 2021-03-19  68835  69201  366\n",
       "3 2021-03-20 2021-05-19  69201  69230   29\n",
       "4 2021-05-20 2021-07-19  69230  69295   65"
      ]
     },
     "execution_count": 7,
     "metadata": {},
     "output_type": "execute_result"
    }
   ],
   "source": [
    "# Import post-retrofit\n",
    "gas_post = pd.read_csv(\"gas_data_ew_meter_reads.csv\",parse_dates=['From','To'])\n",
    "gas_post"
   ]
  },
  {
   "cell_type": "code",
   "execution_count": 8,
   "metadata": {},
   "outputs": [
    {
     "data": {
      "text/html": [
       "<div>\n",
       "<style scoped>\n",
       "    .dataframe tbody tr th:only-of-type {\n",
       "        vertical-align: middle;\n",
       "    }\n",
       "\n",
       "    .dataframe tbody tr th {\n",
       "        vertical-align: top;\n",
       "    }\n",
       "\n",
       "    .dataframe thead th {\n",
       "        text-align: right;\n",
       "    }\n",
       "</style>\n",
       "<table border=\"1\" class=\"dataframe\">\n",
       "  <thead>\n",
       "    <tr style=\"text-align: right;\">\n",
       "      <th></th>\n",
       "      <th>From</th>\n",
       "      <th>To</th>\n",
       "      <th>Start</th>\n",
       "      <th>End</th>\n",
       "      <th>m3</th>\n",
       "    </tr>\n",
       "  </thead>\n",
       "  <tbody>\n",
       "    <tr>\n",
       "      <th>1</th>\n",
       "      <td>2020-11-20</td>\n",
       "      <td>2021-01-20</td>\n",
       "      <td>68696</td>\n",
       "      <td>68835</td>\n",
       "      <td>139</td>\n",
       "    </tr>\n",
       "    <tr>\n",
       "      <th>2</th>\n",
       "      <td>2021-01-21</td>\n",
       "      <td>2021-03-19</td>\n",
       "      <td>68835</td>\n",
       "      <td>69201</td>\n",
       "      <td>366</td>\n",
       "    </tr>\n",
       "    <tr>\n",
       "      <th>3</th>\n",
       "      <td>2021-03-20</td>\n",
       "      <td>2021-05-19</td>\n",
       "      <td>69201</td>\n",
       "      <td>69230</td>\n",
       "      <td>29</td>\n",
       "    </tr>\n",
       "  </tbody>\n",
       "</table>\n",
       "</div>"
      ],
      "text/plain": [
       "        From         To  Start    End   m3\n",
       "1 2020-11-20 2021-01-20  68696  68835  139\n",
       "2 2021-01-21 2021-03-19  68835  69201  366\n",
       "3 2021-03-20 2021-05-19  69201  69230   29"
      ]
     },
     "execution_count": 8,
     "metadata": {},
     "output_type": "execute_result"
    }
   ],
   "source": [
    "# Take 6-months of data - install didn't happen until October\n",
    "gas_post = gas_post.loc[(gas_post.index > 0)&(gas_post.index < 4)] \n",
    "gas_post"
   ]
  },
  {
   "cell_type": "code",
   "execution_count": 9,
   "metadata": {},
   "outputs": [
    {
     "data": {
      "text/html": [
       "<div>\n",
       "<style scoped>\n",
       "    .dataframe tbody tr th:only-of-type {\n",
       "        vertical-align: middle;\n",
       "    }\n",
       "\n",
       "    .dataframe tbody tr th {\n",
       "        vertical-align: top;\n",
       "    }\n",
       "\n",
       "    .dataframe thead th {\n",
       "        text-align: right;\n",
       "    }\n",
       "</style>\n",
       "<table border=\"1\" class=\"dataframe\">\n",
       "  <thead>\n",
       "    <tr style=\"text-align: right;\">\n",
       "      <th></th>\n",
       "      <th>From</th>\n",
       "      <th>To</th>\n",
       "      <th>m3</th>\n",
       "      <th>Gas Charge</th>\n",
       "      <th>Gas Charge HST</th>\n",
       "      <th>Invoice Amount</th>\n",
       "    </tr>\n",
       "  </thead>\n",
       "  <tbody>\n",
       "    <tr>\n",
       "      <th>0</th>\n",
       "      <td>2020-08-22</td>\n",
       "      <td>2020-09-21</td>\n",
       "      <td>5</td>\n",
       "      <td>22.92</td>\n",
       "      <td>2.98</td>\n",
       "      <td>25.90</td>\n",
       "    </tr>\n",
       "    <tr>\n",
       "      <th>1</th>\n",
       "      <td>2020-07-21</td>\n",
       "      <td>2020-08-21</td>\n",
       "      <td>25</td>\n",
       "      <td>28.71</td>\n",
       "      <td>3.73</td>\n",
       "      <td>32.44</td>\n",
       "    </tr>\n",
       "    <tr>\n",
       "      <th>2</th>\n",
       "      <td>2020-06-23</td>\n",
       "      <td>2020-07-20</td>\n",
       "      <td>27</td>\n",
       "      <td>29.28</td>\n",
       "      <td>3.81</td>\n",
       "      <td>33.09</td>\n",
       "    </tr>\n",
       "    <tr>\n",
       "      <th>3</th>\n",
       "      <td>2020-05-22</td>\n",
       "      <td>2020-06-22</td>\n",
       "      <td>25</td>\n",
       "      <td>28.71</td>\n",
       "      <td>3.73</td>\n",
       "      <td>32.44</td>\n",
       "    </tr>\n",
       "    <tr>\n",
       "      <th>4</th>\n",
       "      <td>2020-04-23</td>\n",
       "      <td>2020-05-21</td>\n",
       "      <td>17</td>\n",
       "      <td>26.40</td>\n",
       "      <td>3.44</td>\n",
       "      <td>29.84</td>\n",
       "    </tr>\n",
       "    <tr>\n",
       "      <th>5</th>\n",
       "      <td>2020-03-20</td>\n",
       "      <td>2020-04-22</td>\n",
       "      <td>225</td>\n",
       "      <td>84.74</td>\n",
       "      <td>11.02</td>\n",
       "      <td>84.43</td>\n",
       "    </tr>\n",
       "    <tr>\n",
       "      <th>6</th>\n",
       "      <td>2020-02-22</td>\n",
       "      <td>2020-03-19</td>\n",
       "      <td>181</td>\n",
       "      <td>72.71</td>\n",
       "      <td>9.45</td>\n",
       "      <td>82.16</td>\n",
       "    </tr>\n",
       "    <tr>\n",
       "      <th>7</th>\n",
       "      <td>2020-01-21</td>\n",
       "      <td>2020-02-21</td>\n",
       "      <td>338</td>\n",
       "      <td>116.13</td>\n",
       "      <td>15.10</td>\n",
       "      <td>8.66</td>\n",
       "    </tr>\n",
       "    <tr>\n",
       "      <th>8</th>\n",
       "      <td>2019-12-21</td>\n",
       "      <td>2020-01-20</td>\n",
       "      <td>310</td>\n",
       "      <td>108.47</td>\n",
       "      <td>14.10</td>\n",
       "      <td>122.57</td>\n",
       "    </tr>\n",
       "    <tr>\n",
       "      <th>9</th>\n",
       "      <td>2019-11-20</td>\n",
       "      <td>2019-12-20</td>\n",
       "      <td>291</td>\n",
       "      <td>103.37</td>\n",
       "      <td>13.44</td>\n",
       "      <td>116.63</td>\n",
       "    </tr>\n",
       "    <tr>\n",
       "      <th>10</th>\n",
       "      <td>2019-10-23</td>\n",
       "      <td>2019-11-19</td>\n",
       "      <td>189</td>\n",
       "      <td>74.66</td>\n",
       "      <td>9.71</td>\n",
       "      <td>84.19</td>\n",
       "    </tr>\n",
       "    <tr>\n",
       "      <th>11</th>\n",
       "      <td>2019-09-20</td>\n",
       "      <td>2019-10-22</td>\n",
       "      <td>27</td>\n",
       "      <td>28.93</td>\n",
       "      <td>3.76</td>\n",
       "      <td>14.00</td>\n",
       "    </tr>\n",
       "  </tbody>\n",
       "</table>\n",
       "</div>"
      ],
      "text/plain": [
       "         From         To   m3  Gas Charge  Gas Charge HST  Invoice Amount\n",
       "0  2020-08-22 2020-09-21    5       22.92            2.98           25.90\n",
       "1  2020-07-21 2020-08-21   25       28.71            3.73           32.44\n",
       "2  2020-06-23 2020-07-20   27       29.28            3.81           33.09\n",
       "3  2020-05-22 2020-06-22   25       28.71            3.73           32.44\n",
       "4  2020-04-23 2020-05-21   17       26.40            3.44           29.84\n",
       "5  2020-03-20 2020-04-22  225       84.74           11.02           84.43\n",
       "6  2020-02-22 2020-03-19  181       72.71            9.45           82.16\n",
       "7  2020-01-21 2020-02-21  338      116.13           15.10            8.66\n",
       "8  2019-12-21 2020-01-20  310      108.47           14.10          122.57\n",
       "9  2019-11-20 2019-12-20  291      103.37           13.44          116.63\n",
       "10 2019-10-23 2019-11-19  189       74.66            9.71           84.19\n",
       "11 2019-09-20 2019-10-22   27       28.93            3.76           14.00"
      ]
     },
     "execution_count": 9,
     "metadata": {},
     "output_type": "execute_result"
    }
   ],
   "source": [
    "# Import baseline gas data\n",
    "gas_pre_all = pd.read_csv(\"gas_data_ew_baseline.csv\",parse_dates=['From','To'])\n",
    "gas_pre_all"
   ]
  },
  {
   "cell_type": "code",
   "execution_count": 10,
   "metadata": {},
   "outputs": [
    {
     "data": {
      "text/plain": [
       "25.666666666666668"
      ]
     },
     "execution_count": 10,
     "metadata": {},
     "output_type": "execute_result"
    }
   ],
   "source": [
    "# Make a quick estimate of monthly gas consumption for DHW looking as summer months\n",
    "# Assumed August 22nd 2020 to September 21st 2020 is an outlier - 5 m3 is strangely low\n",
    "summer_gas = gas_pre_all.loc[(gas_pre_all.index == 1)|\n",
    "            (gas_pre_all.index == 2)|\n",
    "            (gas_pre_all.index == 3)\n",
    "           ]\n",
    "monthly_DHW_gas = summer_gas.m3.mean()\n",
    "monthly_DHW_gas"
   ]
  },
  {
   "cell_type": "code",
   "execution_count": 11,
   "metadata": {},
   "outputs": [
    {
     "data": {
      "text/html": [
       "<div>\n",
       "<style scoped>\n",
       "    .dataframe tbody tr th:only-of-type {\n",
       "        vertical-align: middle;\n",
       "    }\n",
       "\n",
       "    .dataframe tbody tr th {\n",
       "        vertical-align: top;\n",
       "    }\n",
       "\n",
       "    .dataframe thead th {\n",
       "        text-align: right;\n",
       "    }\n",
       "</style>\n",
       "<table border=\"1\" class=\"dataframe\">\n",
       "  <thead>\n",
       "    <tr style=\"text-align: right;\">\n",
       "      <th></th>\n",
       "      <th>From</th>\n",
       "      <th>To</th>\n",
       "      <th>m3</th>\n",
       "      <th>Gas Charge</th>\n",
       "      <th>Gas Charge HST</th>\n",
       "      <th>Invoice Amount</th>\n",
       "    </tr>\n",
       "  </thead>\n",
       "  <tbody>\n",
       "    <tr>\n",
       "      <th>4</th>\n",
       "      <td>2020-04-23</td>\n",
       "      <td>2020-05-21</td>\n",
       "      <td>17</td>\n",
       "      <td>26.40</td>\n",
       "      <td>3.44</td>\n",
       "      <td>29.84</td>\n",
       "    </tr>\n",
       "    <tr>\n",
       "      <th>5</th>\n",
       "      <td>2020-03-20</td>\n",
       "      <td>2020-04-22</td>\n",
       "      <td>225</td>\n",
       "      <td>84.74</td>\n",
       "      <td>11.02</td>\n",
       "      <td>84.43</td>\n",
       "    </tr>\n",
       "    <tr>\n",
       "      <th>6</th>\n",
       "      <td>2020-02-22</td>\n",
       "      <td>2020-03-19</td>\n",
       "      <td>181</td>\n",
       "      <td>72.71</td>\n",
       "      <td>9.45</td>\n",
       "      <td>82.16</td>\n",
       "    </tr>\n",
       "    <tr>\n",
       "      <th>7</th>\n",
       "      <td>2020-01-21</td>\n",
       "      <td>2020-02-21</td>\n",
       "      <td>338</td>\n",
       "      <td>116.13</td>\n",
       "      <td>15.10</td>\n",
       "      <td>8.66</td>\n",
       "    </tr>\n",
       "    <tr>\n",
       "      <th>8</th>\n",
       "      <td>2019-12-21</td>\n",
       "      <td>2020-01-20</td>\n",
       "      <td>310</td>\n",
       "      <td>108.47</td>\n",
       "      <td>14.10</td>\n",
       "      <td>122.57</td>\n",
       "    </tr>\n",
       "    <tr>\n",
       "      <th>9</th>\n",
       "      <td>2019-11-20</td>\n",
       "      <td>2019-12-20</td>\n",
       "      <td>291</td>\n",
       "      <td>103.37</td>\n",
       "      <td>13.44</td>\n",
       "      <td>116.63</td>\n",
       "    </tr>\n",
       "  </tbody>\n",
       "</table>\n",
       "</div>"
      ],
      "text/plain": [
       "        From         To   m3  Gas Charge  Gas Charge HST  Invoice Amount\n",
       "4 2020-04-23 2020-05-21   17       26.40            3.44           29.84\n",
       "5 2020-03-20 2020-04-22  225       84.74           11.02           84.43\n",
       "6 2020-02-22 2020-03-19  181       72.71            9.45           82.16\n",
       "7 2020-01-21 2020-02-21  338      116.13           15.10            8.66\n",
       "8 2019-12-21 2020-01-20  310      108.47           14.10          122.57\n",
       "9 2019-11-20 2019-12-20  291      103.37           13.44          116.63"
      ]
     },
     "execution_count": 11,
     "metadata": {},
     "output_type": "execute_result"
    }
   ],
   "source": [
    "# Now just take the pre-retrofit gas data that approximately matches the timeframe of the post-retrofit data\n",
    "gas_pre = gas_pre_all.loc[(gas_pre_all.index < 10) & (gas_pre_all.index > 3)]\n",
    "gas_pre"
   ]
  },
  {
   "cell_type": "code",
   "execution_count": 12,
   "metadata": {},
   "outputs": [
    {
     "data": {
      "text/plain": [
       "1362"
      ]
     },
     "execution_count": 12,
     "metadata": {},
     "output_type": "execute_result"
    }
   ],
   "source": [
    "# Quick check on totals pre- and post-\n",
    "gas_pre.m3.sum()"
   ]
  },
  {
   "cell_type": "code",
   "execution_count": 13,
   "metadata": {},
   "outputs": [
    {
     "data": {
      "text/plain": [
       "534"
      ]
     },
     "execution_count": 13,
     "metadata": {},
     "output_type": "execute_result"
    }
   ],
   "source": [
    "# Post-retrofit gas summary\n",
    "gas_post.m3.sum()"
   ]
  },
  {
   "cell_type": "code",
   "execution_count": 14,
   "metadata": {},
   "outputs": [
    {
     "data": {
      "text/plain": [
       "60.79295154185023"
      ]
     },
     "execution_count": 14,
     "metadata": {},
     "output_type": "execute_result"
    }
   ],
   "source": [
    "# Percentage reduction - not yet normalized for weather or other corrections\n",
    "(1-gas_post.m3.sum()/gas_pre.m3.sum())*100"
   ]
  },
  {
   "cell_type": "code",
   "execution_count": 15,
   "metadata": {},
   "outputs": [
    {
     "data": {
      "text/html": [
       "<div>\n",
       "<style scoped>\n",
       "    .dataframe tbody tr th:only-of-type {\n",
       "        vertical-align: middle;\n",
       "    }\n",
       "\n",
       "    .dataframe tbody tr th {\n",
       "        vertical-align: top;\n",
       "    }\n",
       "\n",
       "    .dataframe thead th {\n",
       "        text-align: right;\n",
       "    }\n",
       "</style>\n",
       "<table border=\"1\" class=\"dataframe\">\n",
       "  <thead>\n",
       "    <tr style=\"text-align: right;\">\n",
       "      <th></th>\n",
       "      <th>From</th>\n",
       "      <th>To</th>\n",
       "      <th>kWh</th>\n",
       "    </tr>\n",
       "  </thead>\n",
       "  <tbody>\n",
       "    <tr>\n",
       "      <th>0</th>\n",
       "      <td>2019-01-01</td>\n",
       "      <td>2019-01-31</td>\n",
       "      <td>292.89</td>\n",
       "    </tr>\n",
       "    <tr>\n",
       "      <th>1</th>\n",
       "      <td>2019-02-01</td>\n",
       "      <td>2019-02-28</td>\n",
       "      <td>237.02</td>\n",
       "    </tr>\n",
       "    <tr>\n",
       "      <th>2</th>\n",
       "      <td>2019-03-01</td>\n",
       "      <td>2019-03-28</td>\n",
       "      <td>268.39</td>\n",
       "    </tr>\n",
       "    <tr>\n",
       "      <th>3</th>\n",
       "      <td>2019-04-01</td>\n",
       "      <td>2019-04-28</td>\n",
       "      <td>240.88</td>\n",
       "    </tr>\n",
       "    <tr>\n",
       "      <th>4</th>\n",
       "      <td>2019-05-01</td>\n",
       "      <td>2019-05-28</td>\n",
       "      <td>212.51</td>\n",
       "    </tr>\n",
       "    <tr>\n",
       "      <th>5</th>\n",
       "      <td>2019-06-01</td>\n",
       "      <td>2019-06-28</td>\n",
       "      <td>241.09</td>\n",
       "    </tr>\n",
       "    <tr>\n",
       "      <th>6</th>\n",
       "      <td>2019-07-01</td>\n",
       "      <td>2019-07-28</td>\n",
       "      <td>359.47</td>\n",
       "    </tr>\n",
       "    <tr>\n",
       "      <th>7</th>\n",
       "      <td>2019-08-01</td>\n",
       "      <td>2019-08-28</td>\n",
       "      <td>294.91</td>\n",
       "    </tr>\n",
       "    <tr>\n",
       "      <th>8</th>\n",
       "      <td>2019-09-01</td>\n",
       "      <td>2019-09-28</td>\n",
       "      <td>206.08</td>\n",
       "    </tr>\n",
       "    <tr>\n",
       "      <th>9</th>\n",
       "      <td>2019-10-01</td>\n",
       "      <td>2019-10-28</td>\n",
       "      <td>256.73</td>\n",
       "    </tr>\n",
       "    <tr>\n",
       "      <th>10</th>\n",
       "      <td>2019-11-01</td>\n",
       "      <td>2019-11-28</td>\n",
       "      <td>255.35</td>\n",
       "    </tr>\n",
       "    <tr>\n",
       "      <th>11</th>\n",
       "      <td>2019-12-01</td>\n",
       "      <td>2019-12-28</td>\n",
       "      <td>276.73</td>\n",
       "    </tr>\n",
       "    <tr>\n",
       "      <th>12</th>\n",
       "      <td>2020-01-01</td>\n",
       "      <td>2020-01-28</td>\n",
       "      <td>258.31</td>\n",
       "    </tr>\n",
       "    <tr>\n",
       "      <th>13</th>\n",
       "      <td>2020-02-01</td>\n",
       "      <td>2020-02-28</td>\n",
       "      <td>198.55</td>\n",
       "    </tr>\n",
       "    <tr>\n",
       "      <th>14</th>\n",
       "      <td>2020-03-01</td>\n",
       "      <td>2020-03-28</td>\n",
       "      <td>204.50</td>\n",
       "    </tr>\n",
       "    <tr>\n",
       "      <th>15</th>\n",
       "      <td>2020-04-01</td>\n",
       "      <td>2020-04-28</td>\n",
       "      <td>138.51</td>\n",
       "    </tr>\n",
       "    <tr>\n",
       "      <th>16</th>\n",
       "      <td>2020-05-01</td>\n",
       "      <td>2020-05-28</td>\n",
       "      <td>199.98</td>\n",
       "    </tr>\n",
       "    <tr>\n",
       "      <th>17</th>\n",
       "      <td>2020-06-01</td>\n",
       "      <td>2020-06-28</td>\n",
       "      <td>322.23</td>\n",
       "    </tr>\n",
       "    <tr>\n",
       "      <th>18</th>\n",
       "      <td>2020-07-01</td>\n",
       "      <td>2020-07-28</td>\n",
       "      <td>494.16</td>\n",
       "    </tr>\n",
       "    <tr>\n",
       "      <th>19</th>\n",
       "      <td>2020-08-01</td>\n",
       "      <td>2020-08-28</td>\n",
       "      <td>294.00</td>\n",
       "    </tr>\n",
       "    <tr>\n",
       "      <th>20</th>\n",
       "      <td>2020-09-01</td>\n",
       "      <td>2020-09-28</td>\n",
       "      <td>213.74</td>\n",
       "    </tr>\n",
       "    <tr>\n",
       "      <th>21</th>\n",
       "      <td>2020-10-01</td>\n",
       "      <td>2020-10-28</td>\n",
       "      <td>554.67</td>\n",
       "    </tr>\n",
       "    <tr>\n",
       "      <th>22</th>\n",
       "      <td>2020-11-01</td>\n",
       "      <td>2020-11-28</td>\n",
       "      <td>813.80</td>\n",
       "    </tr>\n",
       "    <tr>\n",
       "      <th>23</th>\n",
       "      <td>2020-12-01</td>\n",
       "      <td>2020-12-28</td>\n",
       "      <td>1032.93</td>\n",
       "    </tr>\n",
       "    <tr>\n",
       "      <th>24</th>\n",
       "      <td>2021-01-01</td>\n",
       "      <td>2021-01-28</td>\n",
       "      <td>1075.86</td>\n",
       "    </tr>\n",
       "    <tr>\n",
       "      <th>25</th>\n",
       "      <td>2021-02-01</td>\n",
       "      <td>2021-02-28</td>\n",
       "      <td>490.45</td>\n",
       "    </tr>\n",
       "    <tr>\n",
       "      <th>26</th>\n",
       "      <td>2021-03-01</td>\n",
       "      <td>2021-03-28</td>\n",
       "      <td>737.67</td>\n",
       "    </tr>\n",
       "    <tr>\n",
       "      <th>27</th>\n",
       "      <td>2021-04-01</td>\n",
       "      <td>2021-04-28</td>\n",
       "      <td>609.55</td>\n",
       "    </tr>\n",
       "    <tr>\n",
       "      <th>28</th>\n",
       "      <td>2021-05-01</td>\n",
       "      <td>2021-05-28</td>\n",
       "      <td>271.03</td>\n",
       "    </tr>\n",
       "    <tr>\n",
       "      <th>29</th>\n",
       "      <td>2021-06-01</td>\n",
       "      <td>2021-06-28</td>\n",
       "      <td>278.07</td>\n",
       "    </tr>\n",
       "    <tr>\n",
       "      <th>30</th>\n",
       "      <td>2021-07-01</td>\n",
       "      <td>2021-07-28</td>\n",
       "      <td>291.01</td>\n",
       "    </tr>\n",
       "    <tr>\n",
       "      <th>31</th>\n",
       "      <td>2021-08-01</td>\n",
       "      <td>2021-08-28</td>\n",
       "      <td>334.78</td>\n",
       "    </tr>\n",
       "  </tbody>\n",
       "</table>\n",
       "</div>"
      ],
      "text/plain": [
       "         From         To      kWh\n",
       "0  2019-01-01 2019-01-31   292.89\n",
       "1  2019-02-01 2019-02-28   237.02\n",
       "2  2019-03-01 2019-03-28   268.39\n",
       "3  2019-04-01 2019-04-28   240.88\n",
       "4  2019-05-01 2019-05-28   212.51\n",
       "5  2019-06-01 2019-06-28   241.09\n",
       "6  2019-07-01 2019-07-28   359.47\n",
       "7  2019-08-01 2019-08-28   294.91\n",
       "8  2019-09-01 2019-09-28   206.08\n",
       "9  2019-10-01 2019-10-28   256.73\n",
       "10 2019-11-01 2019-11-28   255.35\n",
       "11 2019-12-01 2019-12-28   276.73\n",
       "12 2020-01-01 2020-01-28   258.31\n",
       "13 2020-02-01 2020-02-28   198.55\n",
       "14 2020-03-01 2020-03-28   204.50\n",
       "15 2020-04-01 2020-04-28   138.51\n",
       "16 2020-05-01 2020-05-28   199.98\n",
       "17 2020-06-01 2020-06-28   322.23\n",
       "18 2020-07-01 2020-07-28   494.16\n",
       "19 2020-08-01 2020-08-28   294.00\n",
       "20 2020-09-01 2020-09-28   213.74\n",
       "21 2020-10-01 2020-10-28   554.67\n",
       "22 2020-11-01 2020-11-28   813.80\n",
       "23 2020-12-01 2020-12-28  1032.93\n",
       "24 2021-01-01 2021-01-28  1075.86\n",
       "25 2021-02-01 2021-02-28   490.45\n",
       "26 2021-03-01 2021-03-28   737.67\n",
       "27 2021-04-01 2021-04-28   609.55\n",
       "28 2021-05-01 2021-05-28   271.03\n",
       "29 2021-06-01 2021-06-28   278.07\n",
       "30 2021-07-01 2021-07-28   291.01\n",
       "31 2021-08-01 2021-08-28   334.78"
      ]
     },
     "execution_count": 15,
     "metadata": {},
     "output_type": "execute_result"
    }
   ],
   "source": [
    "## Import electricity data \n",
    "elec = pd.read_csv(\"elec_data_ew.csv\",parse_dates=['From','To'])\n",
    "elec"
   ]
  },
  {
   "cell_type": "code",
   "execution_count": 16,
   "metadata": {},
   "outputs": [
    {
     "name": "stderr",
     "output_type": "stream",
     "text": [
      "C:\\ProgramData\\Anaconda3\\lib\\site-packages\\pandas\\plotting\\_converter.py:129: FutureWarning: Using an implicitly registered datetime converter for a matplotlib plotting method. The converter was registered by pandas on import. Future versions of pandas will require you to explicitly register matplotlib converters.\n",
      "\n",
      "To register the converters:\n",
      "\t>>> from pandas.plotting import register_matplotlib_converters\n",
      "\t>>> register_matplotlib_converters()\n",
      "  warnings.warn(msg, FutureWarning)\n"
     ]
    },
    {
     "data": {
      "image/png": "[encoded data removed]",
      "text/plain": [
       "<Figure size 1080x360 with 1 Axes>"
      ]
     },
     "metadata": {
      "needs_background": "light"
     },
     "output_type": "display_data"
    }
   ],
   "source": [
    "# Visualize electricity\n",
    "plt.figure(figsize=(15,5))\n",
    "plt.bar(elec.To,elec.kWh, width = 10)\n",
    "plt.ylabel('Electricity Consumption [kWh]')\n",
    "plt.grid(ls='--')"
   ]
  },
  {
   "cell_type": "code",
   "execution_count": 17,
   "metadata": {},
   "outputs": [
    {
     "data": {
      "text/html": [
       "<div>\n",
       "<style scoped>\n",
       "    .dataframe tbody tr th:only-of-type {\n",
       "        vertical-align: middle;\n",
       "    }\n",
       "\n",
       "    .dataframe tbody tr th {\n",
       "        vertical-align: top;\n",
       "    }\n",
       "\n",
       "    .dataframe thead th {\n",
       "        text-align: right;\n",
       "    }\n",
       "</style>\n",
       "<table border=\"1\" class=\"dataframe\">\n",
       "  <thead>\n",
       "    <tr style=\"text-align: right;\">\n",
       "      <th></th>\n",
       "      <th>From</th>\n",
       "      <th>To</th>\n",
       "      <th>kWh</th>\n",
       "    </tr>\n",
       "  </thead>\n",
       "  <tbody>\n",
       "    <tr>\n",
       "      <th>11</th>\n",
       "      <td>2019-12-01</td>\n",
       "      <td>2019-12-28</td>\n",
       "      <td>276.73</td>\n",
       "    </tr>\n",
       "    <tr>\n",
       "      <th>12</th>\n",
       "      <td>2020-01-01</td>\n",
       "      <td>2020-01-28</td>\n",
       "      <td>258.31</td>\n",
       "    </tr>\n",
       "    <tr>\n",
       "      <th>13</th>\n",
       "      <td>2020-02-01</td>\n",
       "      <td>2020-02-28</td>\n",
       "      <td>198.55</td>\n",
       "    </tr>\n",
       "    <tr>\n",
       "      <th>14</th>\n",
       "      <td>2020-03-01</td>\n",
       "      <td>2020-03-28</td>\n",
       "      <td>204.50</td>\n",
       "    </tr>\n",
       "    <tr>\n",
       "      <th>15</th>\n",
       "      <td>2020-04-01</td>\n",
       "      <td>2020-04-28</td>\n",
       "      <td>138.51</td>\n",
       "    </tr>\n",
       "    <tr>\n",
       "      <th>16</th>\n",
       "      <td>2020-05-01</td>\n",
       "      <td>2020-05-28</td>\n",
       "      <td>199.98</td>\n",
       "    </tr>\n",
       "  </tbody>\n",
       "</table>\n",
       "</div>"
      ],
      "text/plain": [
       "         From         To     kWh\n",
       "11 2019-12-01 2019-12-28  276.73\n",
       "12 2020-01-01 2020-01-28  258.31\n",
       "13 2020-02-01 2020-02-28  198.55\n",
       "14 2020-03-01 2020-03-28  204.50\n",
       "15 2020-04-01 2020-04-28  138.51\n",
       "16 2020-05-01 2020-05-28  199.98"
      ]
     },
     "execution_count": 17,
     "metadata": {},
     "output_type": "execute_result"
    }
   ],
   "source": [
    "# Define pre-retrofit dataframe\n",
    "# Note it does not match up perfectly with the gas data - the timeframes are shifted by ~10 days\n",
    "elec_pre = elec.loc[(elec.index > 10)&(elec.index < 17)]\n",
    "elec_pre"
   ]
  },
  {
   "cell_type": "code",
   "execution_count": 18,
   "metadata": {},
   "outputs": [
    {
     "data": {
      "text/html": [
       "<div>\n",
       "<style scoped>\n",
       "    .dataframe tbody tr th:only-of-type {\n",
       "        vertical-align: middle;\n",
       "    }\n",
       "\n",
       "    .dataframe tbody tr th {\n",
       "        vertical-align: top;\n",
       "    }\n",
       "\n",
       "    .dataframe thead th {\n",
       "        text-align: right;\n",
       "    }\n",
       "</style>\n",
       "<table border=\"1\" class=\"dataframe\">\n",
       "  <thead>\n",
       "    <tr style=\"text-align: right;\">\n",
       "      <th></th>\n",
       "      <th>From</th>\n",
       "      <th>To</th>\n",
       "      <th>kWh</th>\n",
       "    </tr>\n",
       "  </thead>\n",
       "  <tbody>\n",
       "    <tr>\n",
       "      <th>11</th>\n",
       "      <td>2019-12-01</td>\n",
       "      <td>2019-12-28</td>\n",
       "      <td>276.73</td>\n",
       "    </tr>\n",
       "    <tr>\n",
       "      <th>12</th>\n",
       "      <td>2020-01-01</td>\n",
       "      <td>2020-01-28</td>\n",
       "      <td>258.31</td>\n",
       "    </tr>\n",
       "    <tr>\n",
       "      <th>13</th>\n",
       "      <td>2020-02-01</td>\n",
       "      <td>2020-02-28</td>\n",
       "      <td>198.55</td>\n",
       "    </tr>\n",
       "    <tr>\n",
       "      <th>14</th>\n",
       "      <td>2020-03-01</td>\n",
       "      <td>2020-03-28</td>\n",
       "      <td>204.50</td>\n",
       "    </tr>\n",
       "    <tr>\n",
       "      <th>15</th>\n",
       "      <td>2020-04-01</td>\n",
       "      <td>2020-04-28</td>\n",
       "      <td>138.51</td>\n",
       "    </tr>\n",
       "    <tr>\n",
       "      <th>16</th>\n",
       "      <td>2020-05-01</td>\n",
       "      <td>2020-05-28</td>\n",
       "      <td>199.98</td>\n",
       "    </tr>\n",
       "  </tbody>\n",
       "</table>\n",
       "</div>"
      ],
      "text/plain": [
       "         From         To     kWh\n",
       "11 2019-12-01 2019-12-28  276.73\n",
       "12 2020-01-01 2020-01-28  258.31\n",
       "13 2020-02-01 2020-02-28  198.55\n",
       "14 2020-03-01 2020-03-28  204.50\n",
       "15 2020-04-01 2020-04-28  138.51\n",
       "16 2020-05-01 2020-05-28  199.98"
      ]
     },
     "execution_count": 18,
     "metadata": {},
     "output_type": "execute_result"
    }
   ],
   "source": [
    "# Define post-retrofit dataframe\n",
    "elec_post = elec.loc[(elec.index > 21)&(elec.index < 28)]\n",
    "elec_pre"
   ]
  },
  {
   "cell_type": "code",
   "execution_count": 19,
   "metadata": {},
   "outputs": [
    {
     "data": {
      "text/plain": [
       "1276.58"
      ]
     },
     "execution_count": 19,
     "metadata": {},
     "output_type": "execute_result"
    }
   ],
   "source": [
    "# Total pre-retrofit electricity - not adjusted for weather\n",
    "elec_pre.kWh.sum()"
   ]
  },
  {
   "cell_type": "code",
   "execution_count": 20,
   "metadata": {},
   "outputs": [
    {
     "data": {
      "text/plain": [
       "4760.26"
      ]
     },
     "execution_count": 20,
     "metadata": {},
     "output_type": "execute_result"
    }
   ],
   "source": [
    "# Total post-retrofit electricity - not adjusted for weather\n",
    "elec_post.kWh.sum()"
   ]
  },
  {
   "cell_type": "code",
   "execution_count": 21,
   "metadata": {},
   "outputs": [
    {
     "data": {
      "text/plain": [
       "3.728916323301321"
      ]
     },
     "execution_count": 21,
     "metadata": {},
     "output_type": "execute_result"
    }
   ],
   "source": [
    "# Increase\n",
    "elec_post.kWh.sum()/elec_pre.kWh.sum()"
   ]
  },
  {
   "cell_type": "markdown",
   "metadata": {},
   "source": [
    "Without making and adjustments or changes, gas reduced 61% overall and electricity increase by a factor of 3.7."
   ]
  },
  {
   "cell_type": "markdown",
   "metadata": {},
   "source": [
    "## 4 Import Heating and Cooling Degree Day Data\n",
    "It is helpful to have a look at weather normalized utility data. We can normalize using HDDs. Weather data for toronto has been gathered from weatherstats.ca which is essentially just a way of accessing Environment Canada data."
   ]
  },
  {
   "cell_type": "code",
   "execution_count": 22,
   "metadata": {},
   "outputs": [
    {
     "data": {
      "text/html": [
       "<div>\n",
       "<style scoped>\n",
       "    .dataframe tbody tr th:only-of-type {\n",
       "        vertical-align: middle;\n",
       "    }\n",
       "\n",
       "    .dataframe tbody tr th {\n",
       "        vertical-align: top;\n",
       "    }\n",
       "\n",
       "    .dataframe thead th {\n",
       "        text-align: right;\n",
       "    }\n",
       "</style>\n",
       "<table border=\"1\" class=\"dataframe\">\n",
       "  <thead>\n",
       "    <tr style=\"text-align: right;\">\n",
       "      <th></th>\n",
       "      <th>temperature</th>\n",
       "      <th>HDDs</th>\n",
       "    </tr>\n",
       "    <tr>\n",
       "      <th>date_time_local</th>\n",
       "      <th></th>\n",
       "      <th></th>\n",
       "    </tr>\n",
       "  </thead>\n",
       "  <tbody>\n",
       "    <tr>\n",
       "      <th>2021-07-02 08:00:00</th>\n",
       "      <td>18.0</td>\n",
       "      <td>0.0</td>\n",
       "    </tr>\n",
       "    <tr>\n",
       "      <th>2021-07-02 07:00:00</th>\n",
       "      <td>16.8</td>\n",
       "      <td>0.0</td>\n",
       "    </tr>\n",
       "    <tr>\n",
       "      <th>2021-07-02 06:00:00</th>\n",
       "      <td>16.4</td>\n",
       "      <td>0.0</td>\n",
       "    </tr>\n",
       "    <tr>\n",
       "      <th>2021-07-02 05:00:00</th>\n",
       "      <td>16.4</td>\n",
       "      <td>0.0</td>\n",
       "    </tr>\n",
       "    <tr>\n",
       "      <th>2021-07-02 04:00:00</th>\n",
       "      <td>16.3</td>\n",
       "      <td>0.0</td>\n",
       "    </tr>\n",
       "  </tbody>\n",
       "</table>\n",
       "</div>"
      ],
      "text/plain": [
       "                     temperature  HDDs\n",
       "date_time_local                       \n",
       "2021-07-02 08:00:00         18.0   0.0\n",
       "2021-07-02 07:00:00         16.8   0.0\n",
       "2021-07-02 06:00:00         16.4   0.0\n",
       "2021-07-02 05:00:00         16.4   0.0\n",
       "2021-07-02 04:00:00         16.3   0.0"
      ]
     },
     "execution_count": 22,
     "metadata": {},
     "output_type": "execute_result"
    }
   ],
   "source": [
    "# Import hourly weather data file for Toronto and calculate HDDs\n",
    "# Assumed building balance point of 14 oC for a better fit to the data\n",
    "toronto_weather = pd.read_csv(\"weatherstats_toronto_hourly.csv\",parse_dates=True, infer_datetime_format=True)\n",
    "toronto_weather.date_time_local = [datetime.datetime.strptime(x,'%m/%d/%Y %H:%M') for x in toronto_weather.date_time_local]\n",
    "toronto_weather = toronto_weather[['date_time_local','temperature']]\n",
    "toronto_weather['HDDs'] = [(14 - x)*(1/24) if (x < 14) else 0 for x in toronto_weather.temperature] \n",
    "toronto_weather.index = toronto_weather.date_time_local\n",
    "del toronto_weather['date_time_local']\n",
    "toronto_weather.head()"
   ]
  },
  {
   "cell_type": "markdown",
   "metadata": {},
   "source": [
    "## 5 Utility Rates and Emission Factors\n",
    "### 5.1 Natural Gas Rate\n",
    "The marginal cost of natural gas was estimated using the Ontatio Energy Board (OEB) bill calculator, available at: https://www.oeb.ca/rates-and-your-bill/bill-calculator. Two sample bills were calculated in November 2021 for an Enbridge service area, one for 100 m3 consumption and one for 200 m3. These are shown below. \n",
    "\n",
    "![GasBills3.png](GasBills3.png)\n",
    "\n",
    "The difference in cost between the two bills is 39.3 dollars - for a difference in consumption of 100 m$^{3}$. It follows that the marginal rate for gas was estimated at 0.393 dollars per m3. At the end of 2020 the federal government announced a new cabron pricing schedule in their plan titled \"A Healthy Environment and A Healthy Economy.\" Starting in 2023, the federal price on carbon will increase at 15 dollars per tonne annually to reach 170 dollars by 2030. It will close to double the current rate by 2030. This has significant implications for hybrid systems and it is considered t the end of this analysis."
   ]
  },
  {
   "cell_type": "code",
   "execution_count": 23,
   "metadata": {},
   "outputs": [],
   "source": [
    "# Define gas rate\n",
    "gas_rate = 0.393 # $/m3"
   ]
  },
  {
   "cell_type": "markdown",
   "metadata": {},
   "source": [
    "### 5.2 Electricity Rate \n",
    "The current marginal electricity rates were also calculated using the OEB bill calculator. Six bills were calculated in total. Each bill assumed that electricity was consumed entirely in only one time-of-use (TOU) bracket. For each TOU bracket a 500 kWh and a 600 kWh was calculated. The difference between the two bills was used to calculated the marginal electricity rate for the TOU. This kind of approach was necessary to properly capture all marginal costs, and is helpful because it is straightforward and electricity pricing structures can be complex with mutiple line items. Bills were calculated in November 2021.\n",
    "\n",
    "The results for peak electricity are shown below - with 500 kWh bill on the left an 600 kWh on the right. The difference between the two bills is dollars 18.8, leading to marginal peak electricity cost estimate of 0.188 dollars per kWh.\n",
    "![peak_elec.png](peak_elec.png)"
   ]
  },
  {
   "cell_type": "markdown",
   "metadata": {},
   "source": [
    "The results for mid-peak electricity are shown below - with 500 kWh bill on the left an 600 kWh on the right. The difference between the two bills is 13.1 dollars, leading to marginal peak electricity cost estimate of 0.131 dollars per kWh.\n",
    "![mid_elec.png](mid_elec.png)"
   ]
  },
  {
   "cell_type": "markdown",
   "metadata": {},
   "source": [
    "The results for off-peak electricity are shown below - with 500 kWh bill on the left an 600 kWh on the right. The difference between the two bills is 10.1 dollars, leading to marginal peak electricity cost estimate of  0.101 $\\$$/kWh.\n",
    "![off_elec.png](off_elec.png)"
   ]
  },
  {
   "cell_type": "markdown",
   "metadata": {},
   "source": [
    "Previous analysis (https://sustainabletechnologies.ca/app/uploads/2021/05/DualFuelAnalysis052021.pdf) estimated that 66% of the heating load occurs in an off-peak TOU and the remainder is roughly split between mid-peak and on-peak. For this home, hour electricity data was provided for part of the 2021 heating season. Can look at when electricity was consumed below."
   ]
  },
  {
   "cell_type": "code",
   "execution_count": 24,
   "metadata": {},
   "outputs": [
    {
     "data": {
      "text/html": [
       "<div>\n",
       "<style scoped>\n",
       "    .dataframe tbody tr th:only-of-type {\n",
       "        vertical-align: middle;\n",
       "    }\n",
       "\n",
       "    .dataframe tbody tr th {\n",
       "        vertical-align: top;\n",
       "    }\n",
       "\n",
       "    .dataframe thead th {\n",
       "        text-align: right;\n",
       "    }\n",
       "</style>\n",
       "<table border=\"1\" class=\"dataframe\">\n",
       "  <thead>\n",
       "    <tr style=\"text-align: right;\">\n",
       "      <th></th>\n",
       "      <th>Start Time</th>\n",
       "      <th>Wh</th>\n",
       "    </tr>\n",
       "  </thead>\n",
       "  <tbody>\n",
       "    <tr>\n",
       "      <th>0</th>\n",
       "      <td>2021-01-01 05:00:00</td>\n",
       "      <td>1440</td>\n",
       "    </tr>\n",
       "    <tr>\n",
       "      <th>1</th>\n",
       "      <td>2021-01-01 06:00:00</td>\n",
       "      <td>1230</td>\n",
       "    </tr>\n",
       "    <tr>\n",
       "      <th>2</th>\n",
       "      <td>2021-01-01 07:00:00</td>\n",
       "      <td>1470</td>\n",
       "    </tr>\n",
       "    <tr>\n",
       "      <th>3</th>\n",
       "      <td>2021-01-01 08:00:00</td>\n",
       "      <td>1460</td>\n",
       "    </tr>\n",
       "    <tr>\n",
       "      <th>4</th>\n",
       "      <td>2021-01-01 09:00:00</td>\n",
       "      <td>1220</td>\n",
       "    </tr>\n",
       "  </tbody>\n",
       "</table>\n",
       "</div>"
      ],
      "text/plain": [
       "           Start Time    Wh\n",
       "0 2021-01-01 05:00:00  1440\n",
       "1 2021-01-01 06:00:00  1230\n",
       "2 2021-01-01 07:00:00  1470\n",
       "3 2021-01-01 08:00:00  1460\n",
       "4 2021-01-01 09:00:00  1220"
      ]
     },
     "execution_count": 24,
     "metadata": {},
     "output_type": "execute_result"
    }
   ],
   "source": [
    "# Import hourly data\n",
    "hourly_kWh = pd.read_csv('ew_hourly_kWh.csv',parse_dates=['Start Time'])\n",
    "hourly_kWh.head()"
   ]
  },
  {
   "cell_type": "code",
   "execution_count": 25,
   "metadata": {},
   "outputs": [],
   "source": [
    "# Function that determines which TOU bracket any given hour is in\n",
    "def TOU(date_time):\n",
    "    if (date_time.weekday() == 5)|(date_time.weekday() == 6): # Monday is 0; Sunday is 6        \n",
    "        TOU = 'off'\n",
    "    elif (date_time.hour < 7)|(date_time.hour > 18):\n",
    "        TOU = 'off'\n",
    "    elif (date_time.hour > 10)&(date_time.hour < 17):\n",
    "        TOU = 'peak'\n",
    "    else:\n",
    "        TOU = 'mid'\n",
    "    return TOU   "
   ]
  },
  {
   "cell_type": "code",
   "execution_count": 26,
   "metadata": {},
   "outputs": [
    {
     "data": {
      "text/html": [
       "<div>\n",
       "<style scoped>\n",
       "    .dataframe tbody tr th:only-of-type {\n",
       "        vertical-align: middle;\n",
       "    }\n",
       "\n",
       "    .dataframe tbody tr th {\n",
       "        vertical-align: top;\n",
       "    }\n",
       "\n",
       "    .dataframe thead th {\n",
       "        text-align: right;\n",
       "    }\n",
       "</style>\n",
       "<table border=\"1\" class=\"dataframe\">\n",
       "  <thead>\n",
       "    <tr style=\"text-align: right;\">\n",
       "      <th></th>\n",
       "      <th>Start Time</th>\n",
       "      <th>Wh</th>\n",
       "      <th>TOU</th>\n",
       "    </tr>\n",
       "  </thead>\n",
       "  <tbody>\n",
       "    <tr>\n",
       "      <th>0</th>\n",
       "      <td>2021-01-01 05:00:00</td>\n",
       "      <td>1440</td>\n",
       "      <td>off</td>\n",
       "    </tr>\n",
       "    <tr>\n",
       "      <th>1</th>\n",
       "      <td>2021-01-01 06:00:00</td>\n",
       "      <td>1230</td>\n",
       "      <td>off</td>\n",
       "    </tr>\n",
       "    <tr>\n",
       "      <th>2</th>\n",
       "      <td>2021-01-01 07:00:00</td>\n",
       "      <td>1470</td>\n",
       "      <td>mid</td>\n",
       "    </tr>\n",
       "    <tr>\n",
       "      <th>3</th>\n",
       "      <td>2021-01-01 08:00:00</td>\n",
       "      <td>1460</td>\n",
       "      <td>mid</td>\n",
       "    </tr>\n",
       "    <tr>\n",
       "      <th>4</th>\n",
       "      <td>2021-01-01 09:00:00</td>\n",
       "      <td>1220</td>\n",
       "      <td>mid</td>\n",
       "    </tr>\n",
       "    <tr>\n",
       "      <th>5</th>\n",
       "      <td>2021-01-01 10:00:00</td>\n",
       "      <td>1380</td>\n",
       "      <td>mid</td>\n",
       "    </tr>\n",
       "    <tr>\n",
       "      <th>6</th>\n",
       "      <td>2021-01-01 11:00:00</td>\n",
       "      <td>1280</td>\n",
       "      <td>peak</td>\n",
       "    </tr>\n",
       "    <tr>\n",
       "      <th>7</th>\n",
       "      <td>2021-01-01 12:00:00</td>\n",
       "      <td>1300</td>\n",
       "      <td>peak</td>\n",
       "    </tr>\n",
       "    <tr>\n",
       "      <th>8</th>\n",
       "      <td>2021-01-01 13:00:00</td>\n",
       "      <td>1160</td>\n",
       "      <td>peak</td>\n",
       "    </tr>\n",
       "    <tr>\n",
       "      <th>9</th>\n",
       "      <td>2021-01-01 14:00:00</td>\n",
       "      <td>1180</td>\n",
       "      <td>peak</td>\n",
       "    </tr>\n",
       "    <tr>\n",
       "      <th>10</th>\n",
       "      <td>2021-01-01 15:00:00</td>\n",
       "      <td>1120</td>\n",
       "      <td>peak</td>\n",
       "    </tr>\n",
       "    <tr>\n",
       "      <th>11</th>\n",
       "      <td>2021-01-01 16:00:00</td>\n",
       "      <td>850</td>\n",
       "      <td>peak</td>\n",
       "    </tr>\n",
       "    <tr>\n",
       "      <th>12</th>\n",
       "      <td>2021-01-01 17:00:00</td>\n",
       "      <td>1140</td>\n",
       "      <td>mid</td>\n",
       "    </tr>\n",
       "    <tr>\n",
       "      <th>13</th>\n",
       "      <td>2021-01-01 18:00:00</td>\n",
       "      <td>1010</td>\n",
       "      <td>mid</td>\n",
       "    </tr>\n",
       "    <tr>\n",
       "      <th>14</th>\n",
       "      <td>2021-01-01 19:00:00</td>\n",
       "      <td>1030</td>\n",
       "      <td>off</td>\n",
       "    </tr>\n",
       "    <tr>\n",
       "      <th>15</th>\n",
       "      <td>2021-01-01 20:00:00</td>\n",
       "      <td>1080</td>\n",
       "      <td>off</td>\n",
       "    </tr>\n",
       "    <tr>\n",
       "      <th>16</th>\n",
       "      <td>2021-01-01 21:00:00</td>\n",
       "      <td>1220</td>\n",
       "      <td>off</td>\n",
       "    </tr>\n",
       "    <tr>\n",
       "      <th>17</th>\n",
       "      <td>2021-01-01 22:00:00</td>\n",
       "      <td>1020</td>\n",
       "      <td>off</td>\n",
       "    </tr>\n",
       "    <tr>\n",
       "      <th>18</th>\n",
       "      <td>2021-01-01 23:00:00</td>\n",
       "      <td>1110</td>\n",
       "      <td>off</td>\n",
       "    </tr>\n",
       "    <tr>\n",
       "      <th>19</th>\n",
       "      <td>2021-01-02 00:00:00</td>\n",
       "      <td>1300</td>\n",
       "      <td>off</td>\n",
       "    </tr>\n",
       "    <tr>\n",
       "      <th>20</th>\n",
       "      <td>2021-01-02 01:00:00</td>\n",
       "      <td>1050</td>\n",
       "      <td>off</td>\n",
       "    </tr>\n",
       "    <tr>\n",
       "      <th>21</th>\n",
       "      <td>2021-01-02 02:00:00</td>\n",
       "      <td>1230</td>\n",
       "      <td>off</td>\n",
       "    </tr>\n",
       "    <tr>\n",
       "      <th>22</th>\n",
       "      <td>2021-01-02 03:00:00</td>\n",
       "      <td>1330</td>\n",
       "      <td>off</td>\n",
       "    </tr>\n",
       "    <tr>\n",
       "      <th>23</th>\n",
       "      <td>2021-01-02 04:00:00</td>\n",
       "      <td>1100</td>\n",
       "      <td>off</td>\n",
       "    </tr>\n",
       "    <tr>\n",
       "      <th>24</th>\n",
       "      <td>2021-01-02 05:00:00</td>\n",
       "      <td>960</td>\n",
       "      <td>off</td>\n",
       "    </tr>\n",
       "    <tr>\n",
       "      <th>25</th>\n",
       "      <td>2021-01-02 06:00:00</td>\n",
       "      <td>1300</td>\n",
       "      <td>off</td>\n",
       "    </tr>\n",
       "    <tr>\n",
       "      <th>26</th>\n",
       "      <td>2021-01-02 07:00:00</td>\n",
       "      <td>860</td>\n",
       "      <td>off</td>\n",
       "    </tr>\n",
       "    <tr>\n",
       "      <th>27</th>\n",
       "      <td>2021-01-02 08:00:00</td>\n",
       "      <td>1230</td>\n",
       "      <td>off</td>\n",
       "    </tr>\n",
       "    <tr>\n",
       "      <th>28</th>\n",
       "      <td>2021-01-02 09:00:00</td>\n",
       "      <td>1230</td>\n",
       "      <td>off</td>\n",
       "    </tr>\n",
       "    <tr>\n",
       "      <th>29</th>\n",
       "      <td>2021-01-02 10:00:00</td>\n",
       "      <td>1050</td>\n",
       "      <td>off</td>\n",
       "    </tr>\n",
       "    <tr>\n",
       "      <th>...</th>\n",
       "      <td>...</td>\n",
       "      <td>...</td>\n",
       "      <td>...</td>\n",
       "    </tr>\n",
       "    <tr>\n",
       "      <th>3565</th>\n",
       "      <td>2021-05-29 18:00:00</td>\n",
       "      <td>420</td>\n",
       "      <td>off</td>\n",
       "    </tr>\n",
       "    <tr>\n",
       "      <th>3566</th>\n",
       "      <td>2021-05-29 19:00:00</td>\n",
       "      <td>520</td>\n",
       "      <td>off</td>\n",
       "    </tr>\n",
       "    <tr>\n",
       "      <th>3567</th>\n",
       "      <td>2021-05-29 20:00:00</td>\n",
       "      <td>520</td>\n",
       "      <td>off</td>\n",
       "    </tr>\n",
       "    <tr>\n",
       "      <th>3568</th>\n",
       "      <td>2021-05-29 21:00:00</td>\n",
       "      <td>520</td>\n",
       "      <td>off</td>\n",
       "    </tr>\n",
       "    <tr>\n",
       "      <th>3569</th>\n",
       "      <td>2021-05-29 22:00:00</td>\n",
       "      <td>370</td>\n",
       "      <td>off</td>\n",
       "    </tr>\n",
       "    <tr>\n",
       "      <th>3570</th>\n",
       "      <td>2021-05-29 23:00:00</td>\n",
       "      <td>890</td>\n",
       "      <td>off</td>\n",
       "    </tr>\n",
       "    <tr>\n",
       "      <th>3571</th>\n",
       "      <td>2021-05-30 00:00:00</td>\n",
       "      <td>340</td>\n",
       "      <td>off</td>\n",
       "    </tr>\n",
       "    <tr>\n",
       "      <th>3572</th>\n",
       "      <td>2021-05-30 01:00:00</td>\n",
       "      <td>400</td>\n",
       "      <td>off</td>\n",
       "    </tr>\n",
       "    <tr>\n",
       "      <th>3573</th>\n",
       "      <td>2021-05-30 02:00:00</td>\n",
       "      <td>470</td>\n",
       "      <td>off</td>\n",
       "    </tr>\n",
       "    <tr>\n",
       "      <th>3574</th>\n",
       "      <td>2021-05-30 03:00:00</td>\n",
       "      <td>310</td>\n",
       "      <td>off</td>\n",
       "    </tr>\n",
       "    <tr>\n",
       "      <th>3575</th>\n",
       "      <td>2021-05-30 04:00:00</td>\n",
       "      <td>260</td>\n",
       "      <td>off</td>\n",
       "    </tr>\n",
       "    <tr>\n",
       "      <th>3576</th>\n",
       "      <td>2021-05-30 05:00:00</td>\n",
       "      <td>260</td>\n",
       "      <td>off</td>\n",
       "    </tr>\n",
       "    <tr>\n",
       "      <th>3577</th>\n",
       "      <td>2021-05-30 06:00:00</td>\n",
       "      <td>270</td>\n",
       "      <td>off</td>\n",
       "    </tr>\n",
       "    <tr>\n",
       "      <th>3578</th>\n",
       "      <td>2021-05-30 07:00:00</td>\n",
       "      <td>270</td>\n",
       "      <td>off</td>\n",
       "    </tr>\n",
       "    <tr>\n",
       "      <th>3579</th>\n",
       "      <td>2021-05-30 08:00:00</td>\n",
       "      <td>1740</td>\n",
       "      <td>off</td>\n",
       "    </tr>\n",
       "    <tr>\n",
       "      <th>3580</th>\n",
       "      <td>2021-05-30 09:00:00</td>\n",
       "      <td>1910</td>\n",
       "      <td>off</td>\n",
       "    </tr>\n",
       "    <tr>\n",
       "      <th>3581</th>\n",
       "      <td>2021-05-30 10:00:00</td>\n",
       "      <td>1930</td>\n",
       "      <td>off</td>\n",
       "    </tr>\n",
       "    <tr>\n",
       "      <th>3582</th>\n",
       "      <td>2021-05-30 11:00:00</td>\n",
       "      <td>1650</td>\n",
       "      <td>off</td>\n",
       "    </tr>\n",
       "    <tr>\n",
       "      <th>3583</th>\n",
       "      <td>2021-05-30 12:00:00</td>\n",
       "      <td>260</td>\n",
       "      <td>off</td>\n",
       "    </tr>\n",
       "    <tr>\n",
       "      <th>3584</th>\n",
       "      <td>2021-05-30 13:00:00</td>\n",
       "      <td>320</td>\n",
       "      <td>off</td>\n",
       "    </tr>\n",
       "    <tr>\n",
       "      <th>3585</th>\n",
       "      <td>2021-05-30 14:00:00</td>\n",
       "      <td>370</td>\n",
       "      <td>off</td>\n",
       "    </tr>\n",
       "    <tr>\n",
       "      <th>3586</th>\n",
       "      <td>2021-05-30 15:00:00</td>\n",
       "      <td>390</td>\n",
       "      <td>off</td>\n",
       "    </tr>\n",
       "    <tr>\n",
       "      <th>3587</th>\n",
       "      <td>2021-05-30 16:00:00</td>\n",
       "      <td>540</td>\n",
       "      <td>off</td>\n",
       "    </tr>\n",
       "    <tr>\n",
       "      <th>3588</th>\n",
       "      <td>2021-05-30 17:00:00</td>\n",
       "      <td>350</td>\n",
       "      <td>off</td>\n",
       "    </tr>\n",
       "    <tr>\n",
       "      <th>3589</th>\n",
       "      <td>2021-05-30 18:00:00</td>\n",
       "      <td>340</td>\n",
       "      <td>off</td>\n",
       "    </tr>\n",
       "    <tr>\n",
       "      <th>3590</th>\n",
       "      <td>2021-05-30 19:00:00</td>\n",
       "      <td>270</td>\n",
       "      <td>off</td>\n",
       "    </tr>\n",
       "    <tr>\n",
       "      <th>3591</th>\n",
       "      <td>2021-05-30 20:00:00</td>\n",
       "      <td>280</td>\n",
       "      <td>off</td>\n",
       "    </tr>\n",
       "    <tr>\n",
       "      <th>3592</th>\n",
       "      <td>2021-05-30 21:00:00</td>\n",
       "      <td>290</td>\n",
       "      <td>off</td>\n",
       "    </tr>\n",
       "    <tr>\n",
       "      <th>3593</th>\n",
       "      <td>2021-05-30 22:00:00</td>\n",
       "      <td>470</td>\n",
       "      <td>off</td>\n",
       "    </tr>\n",
       "    <tr>\n",
       "      <th>3594</th>\n",
       "      <td>2021-05-30 23:00:00</td>\n",
       "      <td>270</td>\n",
       "      <td>off</td>\n",
       "    </tr>\n",
       "  </tbody>\n",
       "</table>\n",
       "<p>3595 rows × 3 columns</p>\n",
       "</div>"
      ],
      "text/plain": [
       "              Start Time    Wh   TOU\n",
       "0    2021-01-01 05:00:00  1440   off\n",
       "1    2021-01-01 06:00:00  1230   off\n",
       "2    2021-01-01 07:00:00  1470   mid\n",
       "3    2021-01-01 08:00:00  1460   mid\n",
       "4    2021-01-01 09:00:00  1220   mid\n",
       "5    2021-01-01 10:00:00  1380   mid\n",
       "6    2021-01-01 11:00:00  1280  peak\n",
       "7    2021-01-01 12:00:00  1300  peak\n",
       "8    2021-01-01 13:00:00  1160  peak\n",
       "9    2021-01-01 14:00:00  1180  peak\n",
       "10   2021-01-01 15:00:00  1120  peak\n",
       "11   2021-01-01 16:00:00   850  peak\n",
       "12   2021-01-01 17:00:00  1140   mid\n",
       "13   2021-01-01 18:00:00  1010   mid\n",
       "14   2021-01-01 19:00:00  1030   off\n",
       "15   2021-01-01 20:00:00  1080   off\n",
       "16   2021-01-01 21:00:00  1220   off\n",
       "17   2021-01-01 22:00:00  1020   off\n",
       "18   2021-01-01 23:00:00  1110   off\n",
       "19   2021-01-02 00:00:00  1300   off\n",
       "20   2021-01-02 01:00:00  1050   off\n",
       "21   2021-01-02 02:00:00  1230   off\n",
       "22   2021-01-02 03:00:00  1330   off\n",
       "23   2021-01-02 04:00:00  1100   off\n",
       "24   2021-01-02 05:00:00   960   off\n",
       "25   2021-01-02 06:00:00  1300   off\n",
       "26   2021-01-02 07:00:00   860   off\n",
       "27   2021-01-02 08:00:00  1230   off\n",
       "28   2021-01-02 09:00:00  1230   off\n",
       "29   2021-01-02 10:00:00  1050   off\n",
       "...                  ...   ...   ...\n",
       "3565 2021-05-29 18:00:00   420   off\n",
       "3566 2021-05-29 19:00:00   520   off\n",
       "3567 2021-05-29 20:00:00   520   off\n",
       "3568 2021-05-29 21:00:00   520   off\n",
       "3569 2021-05-29 22:00:00   370   off\n",
       "3570 2021-05-29 23:00:00   890   off\n",
       "3571 2021-05-30 00:00:00   340   off\n",
       "3572 2021-05-30 01:00:00   400   off\n",
       "3573 2021-05-30 02:00:00   470   off\n",
       "3574 2021-05-30 03:00:00   310   off\n",
       "3575 2021-05-30 04:00:00   260   off\n",
       "3576 2021-05-30 05:00:00   260   off\n",
       "3577 2021-05-30 06:00:00   270   off\n",
       "3578 2021-05-30 07:00:00   270   off\n",
       "3579 2021-05-30 08:00:00  1740   off\n",
       "3580 2021-05-30 09:00:00  1910   off\n",
       "3581 2021-05-30 10:00:00  1930   off\n",
       "3582 2021-05-30 11:00:00  1650   off\n",
       "3583 2021-05-30 12:00:00   260   off\n",
       "3584 2021-05-30 13:00:00   320   off\n",
       "3585 2021-05-30 14:00:00   370   off\n",
       "3586 2021-05-30 15:00:00   390   off\n",
       "3587 2021-05-30 16:00:00   540   off\n",
       "3588 2021-05-30 17:00:00   350   off\n",
       "3589 2021-05-30 18:00:00   340   off\n",
       "3590 2021-05-30 19:00:00   270   off\n",
       "3591 2021-05-30 20:00:00   280   off\n",
       "3592 2021-05-30 21:00:00   290   off\n",
       "3593 2021-05-30 22:00:00   470   off\n",
       "3594 2021-05-30 23:00:00   270   off\n",
       "\n",
       "[3595 rows x 3 columns]"
      ]
     },
     "execution_count": 26,
     "metadata": {},
     "output_type": "execute_result"
    }
   ],
   "source": [
    "# Determine which TOU on an hourly basis\n",
    "hourly_kWh['TOU'] = [TOU(x) for x in hourly_kWh['Start Time']]\n",
    "hourly_kWh = hourly_kWh.loc[hourly_kWh['Start Time'] < datetime.datetime.strptime('05/31/2021','%m/%d/%Y')]\n",
    "hourly_kWh"
   ]
  },
  {
   "cell_type": "code",
   "execution_count": 27,
   "metadata": {},
   "outputs": [
    {
     "data": {
      "text/plain": [
       "1850.96"
      ]
     },
     "execution_count": 27,
     "metadata": {},
     "output_type": "execute_result"
    }
   ],
   "source": [
    "# Offpeak electricity \n",
    "offpeak_total = hourly_kWh.loc[hourly_kWh.TOU == 'off'].Wh.sum()/1000\n",
    "offpeak_total"
   ]
  },
  {
   "cell_type": "code",
   "execution_count": 28,
   "metadata": {},
   "outputs": [
    {
     "data": {
      "text/plain": [
       "676.24"
      ]
     },
     "execution_count": 28,
     "metadata": {},
     "output_type": "execute_result"
    }
   ],
   "source": [
    "# Peak electricity\n",
    "peak_total = hourly_kWh.loc[hourly_kWh.TOU == 'peak'].Wh.sum()/1000\n",
    "peak_total"
   ]
  },
  {
   "cell_type": "code",
   "execution_count": 29,
   "metadata": {},
   "outputs": [
    {
     "data": {
      "text/plain": [
       "651.21"
      ]
     },
     "execution_count": 29,
     "metadata": {},
     "output_type": "execute_result"
    }
   ],
   "source": [
    "# Mid-peak electricity\n",
    "midpeak_total = hourly_kWh.loc[hourly_kWh.TOU == 'mid'].Wh.sum()/1000\n",
    "midpeak_total"
   ]
  },
  {
   "cell_type": "code",
   "execution_count": 30,
   "metadata": {},
   "outputs": [
    {
     "data": {
      "text/plain": [
       "3178.41"
      ]
     },
     "execution_count": 30,
     "metadata": {},
     "output_type": "execute_result"
    }
   ],
   "source": [
    "# Total electricity\n",
    "total = offpeak_total + peak_total + midpeak_total\n",
    "total"
   ]
  },
  {
   "cell_type": "code",
   "execution_count": 31,
   "metadata": {},
   "outputs": [
    {
     "data": {
      "text/plain": [
       "0.5823540701168195"
      ]
     },
     "execution_count": 31,
     "metadata": {},
     "output_type": "execute_result"
    }
   ],
   "source": [
    "# Offpeak fraction\n",
    "off_frac = offpeak_total/total\n",
    "off_frac"
   ]
  },
  {
   "cell_type": "code",
   "execution_count": 32,
   "metadata": {},
   "outputs": [
    {
     "data": {
      "text/plain": [
       "0.21276046828445672"
      ]
     },
     "execution_count": 32,
     "metadata": {},
     "output_type": "execute_result"
    }
   ],
   "source": [
    "# Peak fraction\n",
    "peak_frac = peak_total/total    \n",
    "peak_frac"
   ]
  },
  {
   "cell_type": "code",
   "execution_count": 33,
   "metadata": {},
   "outputs": [
    {
     "data": {
      "text/plain": [
       "0.20488546159872392"
      ]
     },
     "execution_count": 33,
     "metadata": {},
     "output_type": "execute_result"
    }
   ],
   "source": [
    "# Mid-peak fraction\n",
    "mid_frac = midpeak_total/total\n",
    "mid_frac"
   ]
  },
  {
   "cell_type": "code",
   "execution_count": 34,
   "metadata": {},
   "outputs": [
    {
     "data": {
      "text/plain": [
       "0.12565672458870947"
      ]
     },
     "execution_count": 34,
     "metadata": {},
     "output_type": "execute_result"
    }
   ],
   "source": [
    "# Weighted electricity rate for these fractions\n",
    "elec_rate = 0.101 * off_frac + 0.131 * mid_frac + 0.188 * peak_frac\n",
    "elec_rate"
   ]
  },
  {
   "cell_type": "code",
   "execution_count": 35,
   "metadata": {},
   "outputs": [
    {
     "data": {
      "text/plain": [
       "0.11929500000000003"
      ]
     },
     "execution_count": 35,
     "metadata": {},
     "output_type": "execute_result"
    }
   ],
   "source": [
    "# Comparison the report that estimate 66% off-peak and 17% mid-peak and 17% peak\n",
    "# Define elec rates\n",
    "elec_rate2 = 0.66*0.101 + 0.131*(0.33/2) + 0.188*(0.33/2)\n",
    "elec_rate2"
   ]
  },
  {
   "cell_type": "markdown",
   "metadata": {},
   "source": [
    "The actual TOU breakdown of electricity was somewhat close to expectations - and the rates would be very similar regardless of which assumption is used. This analysis will use the rate weighted to actual consumption as a best estimate."
   ]
  },
  {
   "cell_type": "markdown",
   "metadata": {},
   "source": [
    "### 5.3 Summary "
   ]
  },
  {
   "cell_type": "code",
   "execution_count": 36,
   "metadata": {},
   "outputs": [
    {
     "name": "stdout",
     "output_type": "stream",
     "text": [
      "The gas rate is 0.393 dollars per cubic meter.\n",
      "The electricity rate for the heat pump is 0.125 dollars per kWh.\n"
     ]
    }
   ],
   "source": [
    "print(\"The gas rate is \" + str(gas_rate) + ' dollars per cubic meter.')\n",
    "print(\"The electricity rate for the heat pump is \" + str(elec_rate)[:5] + ' dollars per kWh.')"
   ]
  },
  {
   "cell_type": "markdown",
   "metadata": {},
   "source": [
    "### 5.4 Emission Factors"
   ]
  },
  {
   "cell_type": "markdown",
   "metadata": {},
   "source": [
    "The emission factors for electricity and natural gas are discussed in the whitepaper linked above. The emission factor for electricity was estimated at 0.030 kg equivalent CO2 per kWh. The emission factor for natural gas combustion was assumed at 1.89 kg equivalent CO2 per cubic metre. Values are from the 2021 Canadian National Inventory Report."
   ]
  },
  {
   "cell_type": "code",
   "execution_count": 37,
   "metadata": {},
   "outputs": [],
   "source": [
    "# Define emission factor assumptions\n",
    "EF_elec = 0.030 # assuming an annual emission factor of 0.030 according to 2021 NIR report\n",
    "EF_gas = 1.89 # in units kg CO2e per m3"
   ]
  },
  {
   "cell_type": "markdown",
   "metadata": {},
   "source": [
    "## 6 Define Regression Models of Utility Consumption, Make Adjustments and Calculate Utility Impacts\n",
    "### 6.1 Gas Baseline Calculation\n",
    "We can now add HDDs to the utility consumption dataframes."
   ]
  },
  {
   "cell_type": "code",
   "execution_count": 38,
   "metadata": {},
   "outputs": [],
   "source": [
    "# Function that determines total HDDs in a given window of time\n",
    "def HDD_total(start_date,end_date):\n",
    "    temp_df = toronto_weather.loc[(toronto_weather.index>start_date)&(toronto_weather.index<end_date)]\n",
    "    total_HDDs = temp_df.HDDs.sum()\n",
    "    return {'HDDs':total_HDDs}"
   ]
  },
  {
   "cell_type": "code",
   "execution_count": 39,
   "metadata": {},
   "outputs": [
    {
     "name": "stderr",
     "output_type": "stream",
     "text": [
      "C:\\ProgramData\\Anaconda3\\lib\\site-packages\\ipykernel_launcher.py:2: SettingWithCopyWarning: \n",
      "A value is trying to be set on a copy of a slice from a DataFrame.\n",
      "Try using .loc[row_indexer,col_indexer] = value instead\n",
      "\n",
      "See the caveats in the documentation: http://pandas.pydata.org/pandas-docs/stable/indexing.html#indexing-view-versus-copy\n",
      "  \n"
     ]
    },
    {
     "data": {
      "text/html": [
       "<div>\n",
       "<style scoped>\n",
       "    .dataframe tbody tr th:only-of-type {\n",
       "        vertical-align: middle;\n",
       "    }\n",
       "\n",
       "    .dataframe tbody tr th {\n",
       "        vertical-align: top;\n",
       "    }\n",
       "\n",
       "    .dataframe thead th {\n",
       "        text-align: right;\n",
       "    }\n",
       "</style>\n",
       "<table border=\"1\" class=\"dataframe\">\n",
       "  <thead>\n",
       "    <tr style=\"text-align: right;\">\n",
       "      <th></th>\n",
       "      <th>From</th>\n",
       "      <th>To</th>\n",
       "      <th>Start</th>\n",
       "      <th>End</th>\n",
       "      <th>m3</th>\n",
       "      <th>HDDs</th>\n",
       "    </tr>\n",
       "  </thead>\n",
       "  <tbody>\n",
       "    <tr>\n",
       "      <th>1</th>\n",
       "      <td>2020-11-20</td>\n",
       "      <td>2021-01-20</td>\n",
       "      <td>68696</td>\n",
       "      <td>68835</td>\n",
       "      <td>139</td>\n",
       "      <td>820.900000</td>\n",
       "    </tr>\n",
       "    <tr>\n",
       "      <th>2</th>\n",
       "      <td>2021-01-21</td>\n",
       "      <td>2021-03-19</td>\n",
       "      <td>68835</td>\n",
       "      <td>69201</td>\n",
       "      <td>366</td>\n",
       "      <td>990.975000</td>\n",
       "    </tr>\n",
       "    <tr>\n",
       "      <th>3</th>\n",
       "      <td>2021-03-20</td>\n",
       "      <td>2021-05-19</td>\n",
       "      <td>69201</td>\n",
       "      <td>69230</td>\n",
       "      <td>29</td>\n",
       "      <td>338.745833</td>\n",
       "    </tr>\n",
       "  </tbody>\n",
       "</table>\n",
       "</div>"
      ],
      "text/plain": [
       "        From         To  Start    End   m3        HDDs\n",
       "1 2020-11-20 2021-01-20  68696  68835  139  820.900000\n",
       "2 2021-01-21 2021-03-19  68835  69201  366  990.975000\n",
       "3 2021-03-20 2021-05-19  69201  69230   29  338.745833"
      ]
     },
     "execution_count": 39,
     "metadata": {},
     "output_type": "execute_result"
    }
   ],
   "source": [
    "# Add HDDs to gas post-retrofit dataframe\n",
    "gas_post['HDDs'] = [HDD_total(x,y)['HDDs'] for x,y in zip(gas_post.From,gas_post.To)]\n",
    "gas_post"
   ]
  },
  {
   "cell_type": "code",
   "execution_count": 40,
   "metadata": {},
   "outputs": [
    {
     "name": "stderr",
     "output_type": "stream",
     "text": [
      "C:\\ProgramData\\Anaconda3\\lib\\site-packages\\ipykernel_launcher.py:2: SettingWithCopyWarning: \n",
      "A value is trying to be set on a copy of a slice from a DataFrame.\n",
      "Try using .loc[row_indexer,col_indexer] = value instead\n",
      "\n",
      "See the caveats in the documentation: http://pandas.pydata.org/pandas-docs/stable/indexing.html#indexing-view-versus-copy\n",
      "  \n"
     ]
    },
    {
     "data": {
      "text/html": [
       "<div>\n",
       "<style scoped>\n",
       "    .dataframe tbody tr th:only-of-type {\n",
       "        vertical-align: middle;\n",
       "    }\n",
       "\n",
       "    .dataframe tbody tr th {\n",
       "        vertical-align: top;\n",
       "    }\n",
       "\n",
       "    .dataframe thead th {\n",
       "        text-align: right;\n",
       "    }\n",
       "</style>\n",
       "<table border=\"1\" class=\"dataframe\">\n",
       "  <thead>\n",
       "    <tr style=\"text-align: right;\">\n",
       "      <th></th>\n",
       "      <th>From</th>\n",
       "      <th>To</th>\n",
       "      <th>m3</th>\n",
       "      <th>Gas Charge</th>\n",
       "      <th>Gas Charge HST</th>\n",
       "      <th>Invoice Amount</th>\n",
       "      <th>HDDs</th>\n",
       "    </tr>\n",
       "  </thead>\n",
       "  <tbody>\n",
       "    <tr>\n",
       "      <th>4</th>\n",
       "      <td>2020-04-23</td>\n",
       "      <td>2020-05-21</td>\n",
       "      <td>17</td>\n",
       "      <td>26.40</td>\n",
       "      <td>3.44</td>\n",
       "      <td>29.84</td>\n",
       "      <td>158.058333</td>\n",
       "    </tr>\n",
       "    <tr>\n",
       "      <th>5</th>\n",
       "      <td>2020-03-20</td>\n",
       "      <td>2020-04-22</td>\n",
       "      <td>225</td>\n",
       "      <td>84.74</td>\n",
       "      <td>11.02</td>\n",
       "      <td>84.43</td>\n",
       "      <td>305.491667</td>\n",
       "    </tr>\n",
       "    <tr>\n",
       "      <th>6</th>\n",
       "      <td>2020-02-22</td>\n",
       "      <td>2020-03-19</td>\n",
       "      <td>181</td>\n",
       "      <td>72.71</td>\n",
       "      <td>9.45</td>\n",
       "      <td>82.16</td>\n",
       "      <td>325.058333</td>\n",
       "    </tr>\n",
       "    <tr>\n",
       "      <th>7</th>\n",
       "      <td>2020-01-21</td>\n",
       "      <td>2020-02-21</td>\n",
       "      <td>338</td>\n",
       "      <td>116.13</td>\n",
       "      <td>15.10</td>\n",
       "      <td>8.66</td>\n",
       "      <td>511.295833</td>\n",
       "    </tr>\n",
       "    <tr>\n",
       "      <th>8</th>\n",
       "      <td>2019-12-21</td>\n",
       "      <td>2020-01-20</td>\n",
       "      <td>310</td>\n",
       "      <td>108.47</td>\n",
       "      <td>14.10</td>\n",
       "      <td>122.57</td>\n",
       "      <td>412.900000</td>\n",
       "    </tr>\n",
       "    <tr>\n",
       "      <th>9</th>\n",
       "      <td>2019-11-20</td>\n",
       "      <td>2019-12-20</td>\n",
       "      <td>291</td>\n",
       "      <td>103.37</td>\n",
       "      <td>13.44</td>\n",
       "      <td>116.63</td>\n",
       "      <td>424.879167</td>\n",
       "    </tr>\n",
       "  </tbody>\n",
       "</table>\n",
       "</div>"
      ],
      "text/plain": [
       "        From         To   m3  Gas Charge  Gas Charge HST  Invoice Amount  \\\n",
       "4 2020-04-23 2020-05-21   17       26.40            3.44           29.84   \n",
       "5 2020-03-20 2020-04-22  225       84.74           11.02           84.43   \n",
       "6 2020-02-22 2020-03-19  181       72.71            9.45           82.16   \n",
       "7 2020-01-21 2020-02-21  338      116.13           15.10            8.66   \n",
       "8 2019-12-21 2020-01-20  310      108.47           14.10          122.57   \n",
       "9 2019-11-20 2019-12-20  291      103.37           13.44          116.63   \n",
       "\n",
       "         HDDs  \n",
       "4  158.058333  \n",
       "5  305.491667  \n",
       "6  325.058333  \n",
       "7  511.295833  \n",
       "8  412.900000  \n",
       "9  424.879167  "
      ]
     },
     "execution_count": 40,
     "metadata": {},
     "output_type": "execute_result"
    }
   ],
   "source": [
    "# Add HDDs to gas pre-retrofit dataframe\n",
    "gas_pre['HDDs'] = [HDD_total(x,y)['HDDs'] for x,y in zip(gas_pre.From,gas_pre.To)]\n",
    "gas_pre_all['HDDs'] = [HDD_total(x,y)['HDDs'] for x,y in zip(gas_pre_all.From,gas_pre_all.To)]\n",
    "gas_pre"
   ]
  },
  {
   "cell_type": "code",
   "execution_count": 41,
   "metadata": {},
   "outputs": [
    {
     "data": {
      "text/plain": [
       "2137.683333333333"
      ]
     },
     "execution_count": 41,
     "metadata": {},
     "output_type": "execute_result"
    }
   ],
   "source": [
    "# HDDs pre-retrofit\n",
    "gas_pre.HDDs.sum()"
   ]
  },
  {
   "cell_type": "code",
   "execution_count": 42,
   "metadata": {},
   "outputs": [
    {
     "data": {
      "text/plain": [
       "2150.6208333333334"
      ]
     },
     "execution_count": 42,
     "metadata": {},
     "output_type": "execute_result"
    }
   ],
   "source": [
    "# HDDs post-retrofit\n",
    "gas_post.HDDs.sum()"
   ]
  },
  {
   "cell_type": "markdown",
   "metadata": {},
   "source": [
    "They are with 1% of eachother."
   ]
  },
  {
   "cell_type": "code",
   "execution_count": 43,
   "metadata": {},
   "outputs": [
    {
     "name": "stdout",
     "output_type": "stream",
     "text": [
      "coefficient of determination: 0.9309828930417567\n",
      "intercept: -2.506424348623881\n",
      "slope: [0.66675626]\n"
     ]
    }
   ],
   "source": [
    "# Calculate regression line for baseline data\n",
    "x = np.array(gas_pre_all.HDDs).reshape((-1, 1))\n",
    "y = np.array(gas_pre_all.m3)\n",
    "base_model_gas = LinearRegression()\n",
    "base_model_gas.fit(x, y)\n",
    "base_model_gas_r_sq = base_model_gas.score(x, y)\n",
    "print('coefficient of determination:', base_model_gas_r_sq)\n",
    "print('intercept:', base_model_gas.intercept_)\n",
    "print('slope:', base_model_gas.coef_)"
   ]
  },
  {
   "cell_type": "code",
   "execution_count": 44,
   "metadata": {},
   "outputs": [],
   "source": [
    "# Function for baseline model\n",
    "def baseline_gas(HDDs):\n",
    "    m3 = base_model_gas.coef_[0]*HDDs + base_model_gas.intercept_\n",
    "    return m3"
   ]
  },
  {
   "cell_type": "code",
   "execution_count": 45,
   "metadata": {},
   "outputs": [
    {
     "data": {
      "text/plain": [
       "<matplotlib.legend.Legend at 0x2213a6e45f8>"
      ]
     },
     "execution_count": 45,
     "metadata": {},
     "output_type": "execute_result"
    },
    {
     "data": {
      "image/png": "[encoded data removed]",
      "text/plain": [
       "<Figure size 648x360 with 1 Axes>"
      ]
     },
     "metadata": {
      "needs_background": "light"
     },
     "output_type": "display_data"
    }
   ],
   "source": [
    "# Visualize pre-retrofit data, baseline model, and post-retrofit data\n",
    "x = [0,600]\n",
    "y = [baseline_gas(a) for a in x]\n",
    "plt.figure(figsize = (9,5))\n",
    "plt.scatter(gas_pre_all.HDDs,gas_pre_all.m3, color = step_blue, label = 'Pre-retrofit Baseline')\n",
    "plt.plot(x,y, color = step_blue)\n",
    "plt.xlim(0,1000)\n",
    "plt.xlabel('HDDs')\n",
    "plt.ylabel('Gas Consumption [m$^{3}$]')\n",
    "plt.grid(ls='--')\n",
    "plt.scatter(gas_post.HDDs,gas_post.m3, color = step_gold, label = 'Post-retrofit')\n",
    "plt.legend(loc = 2)"
   ]
  },
  {
   "cell_type": "markdown",
   "metadata": {},
   "source": [
    "Note that post-retrofit is bimonthly data and pre-retrofit is monthly data. As HDDs increase, relative savings is less because furnace is used more. Regression model sees intercept is near zero. Intercept is gas consumption for DHW. If we were trying to predict gas consumption during the summer months this would not suffice. However, it is ok for the 6 winter months we are looking at."
   ]
  },
  {
   "cell_type": "code",
   "execution_count": 46,
   "metadata": {},
   "outputs": [
    {
     "name": "stderr",
     "output_type": "stream",
     "text": [
      "C:\\ProgramData\\Anaconda3\\lib\\site-packages\\ipykernel_launcher.py:2: SettingWithCopyWarning: \n",
      "A value is trying to be set on a copy of a slice from a DataFrame.\n",
      "Try using .loc[row_indexer,col_indexer] = value instead\n",
      "\n",
      "See the caveats in the documentation: http://pandas.pydata.org/pandas-docs/stable/indexing.html#indexing-view-versus-copy\n",
      "  \n"
     ]
    },
    {
     "data": {
      "text/html": [
       "<div>\n",
       "<style scoped>\n",
       "    .dataframe tbody tr th:only-of-type {\n",
       "        vertical-align: middle;\n",
       "    }\n",
       "\n",
       "    .dataframe tbody tr th {\n",
       "        vertical-align: top;\n",
       "    }\n",
       "\n",
       "    .dataframe thead th {\n",
       "        text-align: right;\n",
       "    }\n",
       "</style>\n",
       "<table border=\"1\" class=\"dataframe\">\n",
       "  <thead>\n",
       "    <tr style=\"text-align: right;\">\n",
       "      <th></th>\n",
       "      <th>From</th>\n",
       "      <th>To</th>\n",
       "      <th>Start</th>\n",
       "      <th>End</th>\n",
       "      <th>m3</th>\n",
       "      <th>HDDs</th>\n",
       "      <th>baseline</th>\n",
       "    </tr>\n",
       "  </thead>\n",
       "  <tbody>\n",
       "    <tr>\n",
       "      <th>1</th>\n",
       "      <td>2020-11-20</td>\n",
       "      <td>2021-01-20</td>\n",
       "      <td>68696</td>\n",
       "      <td>68835</td>\n",
       "      <td>139</td>\n",
       "      <td>820.900000</td>\n",
       "      <td>544.833787</td>\n",
       "    </tr>\n",
       "    <tr>\n",
       "      <th>2</th>\n",
       "      <td>2021-01-21</td>\n",
       "      <td>2021-03-19</td>\n",
       "      <td>68835</td>\n",
       "      <td>69201</td>\n",
       "      <td>366</td>\n",
       "      <td>990.975000</td>\n",
       "      <td>658.232358</td>\n",
       "    </tr>\n",
       "    <tr>\n",
       "      <th>3</th>\n",
       "      <td>2021-03-20</td>\n",
       "      <td>2021-05-19</td>\n",
       "      <td>69201</td>\n",
       "      <td>69230</td>\n",
       "      <td>29</td>\n",
       "      <td>338.745833</td>\n",
       "      <td>223.354480</td>\n",
       "    </tr>\n",
       "  </tbody>\n",
       "</table>\n",
       "</div>"
      ],
      "text/plain": [
       "        From         To  Start    End   m3        HDDs    baseline\n",
       "1 2020-11-20 2021-01-20  68696  68835  139  820.900000  544.833787\n",
       "2 2021-01-21 2021-03-19  68835  69201  366  990.975000  658.232358\n",
       "3 2021-03-20 2021-05-19  69201  69230   29  338.745833  223.354480"
      ]
     },
     "execution_count": 46,
     "metadata": {},
     "output_type": "execute_result"
    }
   ],
   "source": [
    "# Calculate baseline gas consumption - applying baseline model to post-retrofit HDDs\n",
    "gas_post['baseline'] = [baseline_gas(HDD) for HDD in gas_post.HDDs]\n",
    "gas_post"
   ]
  },
  {
   "cell_type": "code",
   "execution_count": 47,
   "metadata": {},
   "outputs": [
    {
     "data": {
      "text/plain": [
       "534"
      ]
     },
     "execution_count": 47,
     "metadata": {},
     "output_type": "execute_result"
    }
   ],
   "source": [
    "# Calculate post-retrofit actual gas total\n",
    "gas_post_act = gas_post.m3.sum()\n",
    "gas_post_act"
   ]
  },
  {
   "cell_type": "code",
   "execution_count": 48,
   "metadata": {},
   "outputs": [
    {
     "data": {
      "text/plain": [
       "1426.420624731733"
      ]
     },
     "execution_count": 48,
     "metadata": {},
     "output_type": "execute_result"
    }
   ],
   "source": [
    "# Calculate baseline gas consumption using post-retrofit HDDs\n",
    "gas_post_baseline_mod = gas_post.baseline.sum()\n",
    "gas_post_baseline_mod"
   ]
  },
  {
   "cell_type": "markdown",
   "metadata": {},
   "source": [
    "Interestingly, the baseline model estimates baseline gas usage at 1,426 m3 while the actual pre-retrofit consumption was 1,362 m3. The estimate is off by 5% but the difference in HDDs is only 1%. Erring on the side of a more conservative estimate of gas savings we'll just use the actual value (since the HDDs are so close anyway)."
   ]
  },
  {
   "cell_type": "code",
   "execution_count": 49,
   "metadata": {},
   "outputs": [
    {
     "data": {
      "text/plain": [
       "1362"
      ]
     },
     "execution_count": 49,
     "metadata": {},
     "output_type": "execute_result"
    }
   ],
   "source": [
    "# Baseline gas consumption uncorrected\n",
    "gas_post_baseline = gas_pre.m3.sum()\n",
    "gas_post_baseline"
   ]
  },
  {
   "cell_type": "markdown",
   "metadata": {},
   "source": [
    "### 6.2 Gas Baseline Correction for HRV\n",
    "\n",
    "The HRV added a new heat load to the post-retrofit data that was not their in the pre-retrofit data. This can be corrected by making an adjustment to the baseline that increases the gas consumption. Note that the larger corrections will make the calculate gas savings from the hybrid savings larger. Therefore , the correction should err on the conservative side. If it is too large it will create an unrealistically large estimate for the COP - and this is a way of ensuring that the correction is reasonable."
   ]
  },
  {
   "cell_type": "code",
   "execution_count": 50,
   "metadata": {},
   "outputs": [],
   "source": [
    "# Import temperature data for post-retrofit period \n",
    "start = datetime.datetime.strptime('11/20/2020','%m/%d/%Y')\n",
    "stop = datetime.datetime.strptime('05/19/2021','%m/%d/%Y')\n",
    "post_weather_all = toronto_weather.loc[(toronto_weather.index > start)&\n",
    "                                   (toronto_weather.index < stop)&\n",
    "                                   (toronto_weather.temperature < 14)]"
   ]
  },
  {
   "cell_type": "code",
   "execution_count": 51,
   "metadata": {},
   "outputs": [],
   "source": [
    "# Parameter assumptions for HRV corrections\n",
    "house_volume_ft3 = 1500 * (8) # 1500 ft (across 2 floors assuming 8 ft ceilings) - results in cubic ft\n",
    "house_volume_m3 =  house_volume_ft3/35.3\n",
    "ACH_upgrade = 0.5 # HRV is operating on low at all times - ASHRAE recommends minimum 0.35 ACH for good air quality - 0.5 ACH is a best estimate\n",
    "HRV_eff = 0.75 # Assumed 75% of the heat from the outgoing air is transferred to the incoming air - https://www.lifebreath.com/product/lifebreath-95-max-residential-heat-recovery-ventilator-hrv/\n",
    "indoor_temp = 21\n",
    "air_dens = 1.3 # kg/m3 it varies with temp and pressure but this is a high level calculation so assumed average value\n",
    "cp = 1004 # J/(kgC) heat capacity of air\n",
    "furnace_eff = 0.90 # Efficiency for previous furnace - assumed slightly degraded efficiency\n",
    "gas_energy_dens = 0.038 # GJ/m3\n",
    "\n",
    "# Function to calculate energy from ventilation air for a given hour based on average outdoor temperature\n",
    "def vent_energy(temp):\n",
    "    if temp < 14:\n",
    "        GJ = house_volume_m3 * ACH_upgrade * (1 - HRV_eff) * air_dens * cp * (21 - temp) * (1/1e9) # GJ \n",
    "    else:\n",
    "        GJ = 0\n",
    "    return GJ"
   ]
  },
  {
   "cell_type": "code",
   "execution_count": 52,
   "metadata": {},
   "outputs": [
    {
     "name": "stderr",
     "output_type": "stream",
     "text": [
      "C:\\ProgramData\\Anaconda3\\lib\\site-packages\\ipykernel_launcher.py:2: SettingWithCopyWarning: \n",
      "A value is trying to be set on a copy of a slice from a DataFrame.\n",
      "Try using .loc[row_indexer,col_indexer] = value instead\n",
      "\n",
      "See the caveats in the documentation: http://pandas.pydata.org/pandas-docs/stable/indexing.html#indexing-view-versus-copy\n",
      "  \n"
     ]
    },
    {
     "data": {
      "text/html": [
       "<div>\n",
       "<style scoped>\n",
       "    .dataframe tbody tr th:only-of-type {\n",
       "        vertical-align: middle;\n",
       "    }\n",
       "\n",
       "    .dataframe tbody tr th {\n",
       "        vertical-align: top;\n",
       "    }\n",
       "\n",
       "    .dataframe thead th {\n",
       "        text-align: right;\n",
       "    }\n",
       "</style>\n",
       "<table border=\"1\" class=\"dataframe\">\n",
       "  <thead>\n",
       "    <tr style=\"text-align: right;\">\n",
       "      <th></th>\n",
       "      <th>temperature</th>\n",
       "      <th>HDDs</th>\n",
       "      <th>Vent_Energy_GJ</th>\n",
       "    </tr>\n",
       "    <tr>\n",
       "      <th>date_time_local</th>\n",
       "      <th></th>\n",
       "      <th></th>\n",
       "      <th></th>\n",
       "    </tr>\n",
       "  </thead>\n",
       "  <tbody>\n",
       "    <tr>\n",
       "      <th>2021-05-18 07:00:00</th>\n",
       "      <td>13.8</td>\n",
       "      <td>0.008333</td>\n",
       "      <td>0.000399</td>\n",
       "    </tr>\n",
       "    <tr>\n",
       "      <th>2021-05-18 06:00:00</th>\n",
       "      <td>12.7</td>\n",
       "      <td>0.054167</td>\n",
       "      <td>0.000460</td>\n",
       "    </tr>\n",
       "    <tr>\n",
       "      <th>2021-05-18 05:00:00</th>\n",
       "      <td>12.8</td>\n",
       "      <td>0.050000</td>\n",
       "      <td>0.000455</td>\n",
       "    </tr>\n",
       "    <tr>\n",
       "      <th>2021-05-18 04:00:00</th>\n",
       "      <td>13.7</td>\n",
       "      <td>0.012500</td>\n",
       "      <td>0.000405</td>\n",
       "    </tr>\n",
       "    <tr>\n",
       "      <th>2021-05-18 01:00:00</th>\n",
       "      <td>12.8</td>\n",
       "      <td>0.050000</td>\n",
       "      <td>0.000455</td>\n",
       "    </tr>\n",
       "  </tbody>\n",
       "</table>\n",
       "</div>"
      ],
      "text/plain": [
       "                     temperature      HDDs  Vent_Energy_GJ\n",
       "date_time_local                                           \n",
       "2021-05-18 07:00:00         13.8  0.008333        0.000399\n",
       "2021-05-18 06:00:00         12.7  0.054167        0.000460\n",
       "2021-05-18 05:00:00         12.8  0.050000        0.000455\n",
       "2021-05-18 04:00:00         13.7  0.012500        0.000405\n",
       "2021-05-18 01:00:00         12.8  0.050000        0.000455"
      ]
     },
     "execution_count": 52,
     "metadata": {},
     "output_type": "execute_result"
    }
   ],
   "source": [
    "# Calculate additional energy required for ventilation on an hourly basis\n",
    "post_weather_all['Vent_Energy_GJ'] = [vent_energy(x) for x in post_weather_all.temperature]\n",
    "post_weather_all.head()"
   ]
  },
  {
   "cell_type": "code",
   "execution_count": 53,
   "metadata": {},
   "outputs": [
    {
     "data": {
      "text/plain": [
       "4.476118694617565"
      ]
     },
     "execution_count": 53,
     "metadata": {},
     "output_type": "execute_result"
    }
   ],
   "source": [
    "# Total extra heating energy due to added ventilation\n",
    "vent_energy_tot = post_weather_all.Vent_Energy_GJ.sum()\n",
    "vent_energy_tot"
   ]
  },
  {
   "cell_type": "code",
   "execution_count": 54,
   "metadata": {},
   "outputs": [
    {
     "data": {
      "text/plain": [
       "130.88066358530892"
      ]
     },
     "execution_count": 54,
     "metadata": {},
     "output_type": "execute_result"
    }
   ],
   "source": [
    "# Gas required from previous system for added ventilation\n",
    "vent_energy_gas_m3 = vent_energy_tot * (1/furnace_eff) * (1/gas_energy_dens)\n",
    "vent_energy_gas_m3"
   ]
  },
  {
   "cell_type": "code",
   "execution_count": 55,
   "metadata": {},
   "outputs": [
    {
     "data": {
      "text/plain": [
       "9.609446665588028"
      ]
     },
     "execution_count": 55,
     "metadata": {},
     "output_type": "execute_result"
    }
   ],
   "source": [
    "# % correction with respect to baseline data\n",
    "vent_energy_gas_m3/gas_post_baseline*100"
   ]
  },
  {
   "cell_type": "markdown",
   "metadata": {},
   "source": [
    "The correction for the HRV is relatively small at 10%."
   ]
  },
  {
   "cell_type": "code",
   "execution_count": 56,
   "metadata": {},
   "outputs": [
    {
     "data": {
      "text/plain": [
       "1492.8806635853089"
      ]
     },
     "execution_count": 56,
     "metadata": {},
     "output_type": "execute_result"
    }
   ],
   "source": [
    "# Corrected gas consumption baseline\n",
    "gas_post_baseline_corr = gas_post_baseline + vent_energy_gas_m3\n",
    "gas_post_baseline_corr"
   ]
  },
  {
   "cell_type": "markdown",
   "metadata": {},
   "source": [
    "The baseline gas energy with the correction is an estimate of the gas consumption that would have occurred during the post-retrofit period if the former furnace was used and the only upgrade was the HRV."
   ]
  },
  {
   "cell_type": "markdown",
   "metadata": {},
   "source": [
    "### 6.3 Gas Consumption and Savings Calculations"
   ]
  },
  {
   "cell_type": "code",
   "execution_count": 57,
   "metadata": {},
   "outputs": [
    {
     "data": {
      "text/plain": [
       "958.8806635853089"
      ]
     },
     "execution_count": 57,
     "metadata": {},
     "output_type": "execute_result"
    }
   ],
   "source": [
    "# Calculate gas reduction\n",
    "gas_savings = gas_post_baseline_corr - gas_post_act\n",
    "gas_savings"
   ]
  },
  {
   "cell_type": "code",
   "execution_count": 58,
   "metadata": {},
   "outputs": [
    {
     "data": {
      "text/plain": [
       "64.2302286428211"
      ]
     },
     "execution_count": 58,
     "metadata": {},
     "output_type": "execute_result"
    }
   ],
   "source": [
    "# Calculate gas reduction as perecentage \n",
    "gas_savings/gas_post_baseline_corr*100"
   ]
  },
  {
   "cell_type": "markdown",
   "metadata": {},
   "source": [
    "Now I want to break the gas savings up between the tankless water heater upgrade and the hybrid system."
   ]
  },
  {
   "cell_type": "code",
   "execution_count": 59,
   "metadata": {},
   "outputs": [
    {
     "data": {
      "text/plain": [
       "154.0"
      ]
     },
     "execution_count": 59,
     "metadata": {},
     "output_type": "execute_result"
    }
   ],
   "source": [
    "# Estimated baseline gas consumption for water heating\n",
    "gas_baseline_DHW = 6*monthly_DHW_gas\n",
    "gas_baseline_DHW"
   ]
  },
  {
   "cell_type": "code",
   "execution_count": 60,
   "metadata": {},
   "outputs": [
    {
     "data": {
      "text/plain": [
       "1338.8806635853089"
      ]
     },
     "execution_count": 60,
     "metadata": {},
     "output_type": "execute_result"
    }
   ],
   "source": [
    "# Estimated baseline gas consumption for space heating\n",
    "gas_baseline_SH = gas_post_baseline_corr - gas_baseline_DHW\n",
    "gas_baseline_SH"
   ]
  },
  {
   "cell_type": "code",
   "execution_count": 61,
   "metadata": {},
   "outputs": [
    {
     "data": {
      "text/plain": [
       "50.81999999999999"
      ]
     },
     "execution_count": 61,
     "metadata": {},
     "output_type": "execute_result"
    }
   ],
   "source": [
    "# Estimated gas savings from tankless water heater\n",
    "tankless_eff = 0.98\n",
    "storage_WH_eff = 0.65 # An estimate - tankless water heaters are notoriously inefficient\n",
    "gas_savings_DHW = gas_baseline_DHW * (tankless_eff - storage_WH_eff)\n",
    "gas_savings_DHW"
   ]
  },
  {
   "cell_type": "code",
   "execution_count": 62,
   "metadata": {},
   "outputs": [
    {
     "data": {
      "text/plain": [
       "103.18"
      ]
     },
     "execution_count": 62,
     "metadata": {},
     "output_type": "execute_result"
    }
   ],
   "source": [
    "# Gas consumption for DHW post-retrofit\n",
    "gas_post_DHW = gas_baseline_DHW - gas_savings_DHW\n",
    "gas_post_DHW"
   ]
  },
  {
   "cell_type": "code",
   "execution_count": 63,
   "metadata": {},
   "outputs": [
    {
     "data": {
      "text/plain": [
       "430.82"
      ]
     },
     "execution_count": 63,
     "metadata": {},
     "output_type": "execute_result"
    }
   ],
   "source": [
    "# Gas consumption for SH post-retrofit\n",
    "gas_post_SH = gas_post_act - gas_post_DHW\n",
    "gas_post_SH"
   ]
  },
  {
   "cell_type": "code",
   "execution_count": 64,
   "metadata": {},
   "outputs": [
    {
     "data": {
      "text/plain": [
       "908.0606635853089"
      ]
     },
     "execution_count": 64,
     "metadata": {},
     "output_type": "execute_result"
    }
   ],
   "source": [
    "# Gas savings for SH\n",
    "gas_savings_SH = gas_savings - gas_savings_DHW\n",
    "gas_savings_SH"
   ]
  },
  {
   "cell_type": "code",
   "execution_count": 65,
   "metadata": {},
   "outputs": [
    {
     "data": {
      "text/plain": [
       "0.6782237493472102"
      ]
     },
     "execution_count": 65,
     "metadata": {},
     "output_type": "execute_result"
    }
   ],
   "source": [
    "# Gas savings for SH in %\n",
    "gas_savings_SH/gas_baseline_SH"
   ]
  },
  {
   "cell_type": "code",
   "execution_count": 66,
   "metadata": {},
   "outputs": [
    {
     "data": {
      "text/plain": [
       "32.99999999999999"
      ]
     },
     "execution_count": 66,
     "metadata": {},
     "output_type": "execute_result"
    }
   ],
   "source": [
    "# Gas savings for DHW in %\n",
    "gas_savings_DHW/gas_baseline_DHW*100"
   ]
  },
  {
   "cell_type": "code",
   "execution_count": 67,
   "metadata": {},
   "outputs": [
    {
     "data": {
      "text/plain": [
       "430.81999999999994"
      ]
     },
     "execution_count": 67,
     "metadata": {},
     "output_type": "execute_result"
    }
   ],
   "source": [
    "# Remaining gas that could be saved from a cold-climate system\n",
    "gas_baseline_SH-gas_savings_SH"
   ]
  },
  {
   "cell_type": "markdown",
   "metadata": {},
   "source": [
    "### 6.4 Electricity Baseline Regression Model"
   ]
  },
  {
   "cell_type": "code",
   "execution_count": 68,
   "metadata": {},
   "outputs": [
    {
     "name": "stdout",
     "output_type": "stream",
     "text": [
      "coefficient of determination: 0.3017428536781458\n",
      "intercept: 144.61175297958437\n",
      "slope: [0.21504245]\n"
     ]
    },
    {
     "name": "stderr",
     "output_type": "stream",
     "text": [
      "C:\\ProgramData\\Anaconda3\\lib\\site-packages\\ipykernel_launcher.py:2: SettingWithCopyWarning: \n",
      "A value is trying to be set on a copy of a slice from a DataFrame.\n",
      "Try using .loc[row_indexer,col_indexer] = value instead\n",
      "\n",
      "See the caveats in the documentation: http://pandas.pydata.org/pandas-docs/stable/indexing.html#indexing-view-versus-copy\n",
      "  \n",
      "C:\\ProgramData\\Anaconda3\\lib\\site-packages\\ipykernel_launcher.py:3: SettingWithCopyWarning: \n",
      "A value is trying to be set on a copy of a slice from a DataFrame.\n",
      "Try using .loc[row_indexer,col_indexer] = value instead\n",
      "\n",
      "See the caveats in the documentation: http://pandas.pydata.org/pandas-docs/stable/indexing.html#indexing-view-versus-copy\n",
      "  This is separate from the ipykernel package so we can avoid doing imports until\n"
     ]
    },
    {
     "data": {
      "text/plain": [
       "<matplotlib.legend.Legend at 0x2213aee4e48>"
      ]
     },
     "execution_count": 68,
     "metadata": {},
     "output_type": "execute_result"
    },
    {
     "data": {
      "image/png": "[encoded data removed]",
      "text/plain": [
       "<Figure size 504x360 with 1 Axes>"
      ]
     },
     "metadata": {
      "needs_background": "light"
     },
     "output_type": "display_data"
    }
   ],
   "source": [
    "# Add HDDs to electricity dataframe\n",
    "elec_pre['HDDs'] = [HDD_total(x,y)['HDDs'] for x,y in zip(elec_pre.From,elec_pre.To)]\n",
    "elec_post['HDDs'] = [HDD_total(x,y)['HDDs'] for x,y in zip(elec_post.From,elec_post.To)]\n",
    "\n",
    "# Calculate regression line for baseline data\n",
    "x = np.array(elec_pre.HDDs).reshape((-1, 1))\n",
    "y = np.array(elec_pre.kWh)\n",
    "base_model_elec = LinearRegression()\n",
    "base_model_elec.fit(x, y)\n",
    "base_model_elec_r_sq = base_model_elec.score(x, y)\n",
    "print('coefficient of determination:', base_model_elec_r_sq)\n",
    "print('intercept:', base_model_elec.intercept_)\n",
    "print('slope:', base_model_elec.coef_)\n",
    "\n",
    "# Define baseline elec function\n",
    "def base_elec_model(HDDs):\n",
    "    kWh = base_model_elec.coef_[0]*HDDs + base_model_elec.intercept_\n",
    "    return kWh\n",
    "\n",
    "# Visualize\n",
    "plt.figure(figsize = (7,5))\n",
    "plt.grid(ls='--')\n",
    "x = [0,600]\n",
    "y = [base_elec_model(a) for a in x]\n",
    "plt.scatter(elec_pre.HDDs,elec_pre.kWh, color = step_blue, label = 'Pre-retrofit')\n",
    "plt.scatter(elec_post.HDDs,elec_post.kWh, color = step_gold, label = 'Post-retrofit')\n",
    "plt.plot(x,y, color = step_blue)\n",
    "plt.xlabel('HDDs')\n",
    "plt.ylabel('Electricity Consumption [kWh]')\n",
    "plt.legend()"
   ]
  },
  {
   "cell_type": "code",
   "execution_count": 69,
   "metadata": {},
   "outputs": [
    {
     "name": "stderr",
     "output_type": "stream",
     "text": [
      "C:\\ProgramData\\Anaconda3\\lib\\site-packages\\ipykernel_launcher.py:1: SettingWithCopyWarning: \n",
      "A value is trying to be set on a copy of a slice from a DataFrame.\n",
      "Try using .loc[row_indexer,col_indexer] = value instead\n",
      "\n",
      "See the caveats in the documentation: http://pandas.pydata.org/pandas-docs/stable/indexing.html#indexing-view-versus-copy\n",
      "  \"\"\"Entry point for launching an IPython kernel.\n"
     ]
    },
    {
     "data": {
      "text/html": [
       "<div>\n",
       "<style scoped>\n",
       "    .dataframe tbody tr th:only-of-type {\n",
       "        vertical-align: middle;\n",
       "    }\n",
       "\n",
       "    .dataframe tbody tr th {\n",
       "        vertical-align: top;\n",
       "    }\n",
       "\n",
       "    .dataframe thead th {\n",
       "        text-align: right;\n",
       "    }\n",
       "</style>\n",
       "<table border=\"1\" class=\"dataframe\">\n",
       "  <thead>\n",
       "    <tr style=\"text-align: right;\">\n",
       "      <th></th>\n",
       "      <th>From</th>\n",
       "      <th>To</th>\n",
       "      <th>kWh</th>\n",
       "      <th>HDDs</th>\n",
       "      <th>Baseline</th>\n",
       "    </tr>\n",
       "  </thead>\n",
       "  <tbody>\n",
       "    <tr>\n",
       "      <th>22</th>\n",
       "      <td>2020-11-01</td>\n",
       "      <td>2020-11-28</td>\n",
       "      <td>813.80</td>\n",
       "      <td>196.179167</td>\n",
       "      <td>186.798601</td>\n",
       "    </tr>\n",
       "    <tr>\n",
       "      <th>23</th>\n",
       "      <td>2020-12-01</td>\n",
       "      <td>2020-12-28</td>\n",
       "      <td>1032.93</td>\n",
       "      <td>384.070833</td>\n",
       "      <td>227.203284</td>\n",
       "    </tr>\n",
       "    <tr>\n",
       "      <th>24</th>\n",
       "      <td>2021-01-01</td>\n",
       "      <td>2021-01-28</td>\n",
       "      <td>1075.86</td>\n",
       "      <td>414.804167</td>\n",
       "      <td>233.812255</td>\n",
       "    </tr>\n",
       "    <tr>\n",
       "      <th>25</th>\n",
       "      <td>2021-02-01</td>\n",
       "      <td>2021-02-28</td>\n",
       "      <td>490.45</td>\n",
       "      <td>522.787500</td>\n",
       "      <td>257.033255</td>\n",
       "    </tr>\n",
       "    <tr>\n",
       "      <th>26</th>\n",
       "      <td>2021-03-01</td>\n",
       "      <td>2021-03-28</td>\n",
       "      <td>737.67</td>\n",
       "      <td>304.791667</td>\n",
       "      <td>210.154898</td>\n",
       "    </tr>\n",
       "    <tr>\n",
       "      <th>27</th>\n",
       "      <td>2021-04-01</td>\n",
       "      <td>2021-04-28</td>\n",
       "      <td>609.55</td>\n",
       "      <td>178.245833</td>\n",
       "      <td>182.942173</td>\n",
       "    </tr>\n",
       "  </tbody>\n",
       "</table>\n",
       "</div>"
      ],
      "text/plain": [
       "         From         To      kWh        HDDs    Baseline\n",
       "22 2020-11-01 2020-11-28   813.80  196.179167  186.798601\n",
       "23 2020-12-01 2020-12-28  1032.93  384.070833  227.203284\n",
       "24 2021-01-01 2021-01-28  1075.86  414.804167  233.812255\n",
       "25 2021-02-01 2021-02-28   490.45  522.787500  257.033255\n",
       "26 2021-03-01 2021-03-28   737.67  304.791667  210.154898\n",
       "27 2021-04-01 2021-04-28   609.55  178.245833  182.942173"
      ]
     },
     "execution_count": 69,
     "metadata": {},
     "output_type": "execute_result"
    }
   ],
   "source": [
    "elec_post['Baseline'] = [base_elec_model(HDDs) for HDDs in elec_post.HDDs]\n",
    "elec_post"
   ]
  },
  {
   "cell_type": "code",
   "execution_count": 70,
   "metadata": {},
   "outputs": [
    {
     "data": {
      "text/plain": [
       "[Text(0, 0, 'Dec'),\n",
       " Text(0, 0, 'Jan'),\n",
       " Text(0, 0, 'Feb'),\n",
       " Text(0, 0, 'Mar'),\n",
       " Text(0, 0, 'Apr'),\n",
       " Text(0, 0, 'May')]"
      ]
     },
     "execution_count": 70,
     "metadata": {},
     "output_type": "execute_result"
    },
    {
     "data": {
      "image/png": "[encoded data removed]",
      "text/plain": [
       "<Figure size 504x360 with 1 Axes>"
      ]
     },
     "metadata": {
      "needs_background": "light"
     },
     "output_type": "display_data"
    }
   ],
   "source": [
    "#Visualize\n",
    "fig, ax = plt.subplots(figsize=(7,5))\n",
    "ax.bar(elec_post.From,elec_post.Baseline,width=-10,align='edge', label = 'Modeled Baseline', color = step_gold)\n",
    "ax.bar(elec_post.From,elec_post.kWh,width=10,align='edge',label = 'Post-retrofit', color = step_blue)\n",
    "ax.set_ylabel('Electricity Consumption [kWh]')\n",
    "ax.legend(loc=0)\n",
    "ax.set_xticklabels(['Dec','Jan','Feb','Mar','Apr','May'])"
   ]
  },
  {
   "cell_type": "code",
   "execution_count": 71,
   "metadata": {},
   "outputs": [
    {
     "data": {
      "text/plain": [
       "1297.94446695692"
      ]
     },
     "execution_count": 71,
     "metadata": {},
     "output_type": "execute_result"
    }
   ],
   "source": [
    "# Total electricity baseline\n",
    "baseline_elec = elec_post.Baseline.sum()\n",
    "baseline_elec"
   ]
  },
  {
   "cell_type": "code",
   "execution_count": 72,
   "metadata": {},
   "outputs": [
    {
     "data": {
      "text/plain": [
       "4760.26"
      ]
     },
     "execution_count": 72,
     "metadata": {},
     "output_type": "execute_result"
    }
   ],
   "source": [
    "# Actual post-retrofit elec\n",
    "elec_post_total = elec_post.kWh.sum()\n",
    "elec_post_total"
   ]
  },
  {
   "cell_type": "markdown",
   "metadata": {},
   "source": [
    "### 6.5 Electricity Baseline Adjustment for HRV\n"
   ]
  },
  {
   "cell_type": "code",
   "execution_count": 73,
   "metadata": {},
   "outputs": [
    {
     "data": {
      "text/plain": [
       "258.41999999999996"
      ]
     },
     "execution_count": 73,
     "metadata": {},
     "output_type": "execute_result"
    }
   ],
   "source": [
    "# Assume HRV was running all the time at low power (59 W)\n",
    "HRV_elec = 0.059 * (8760/2) # 8760 hours in a year, divide by 2 for 6 months\n",
    "HRV_elec"
   ]
  },
  {
   "cell_type": "code",
   "execution_count": 74,
   "metadata": {},
   "outputs": [
    {
     "data": {
      "text/plain": [
       "0.05428695071277618"
      ]
     },
     "execution_count": 74,
     "metadata": {},
     "output_type": "execute_result"
    }
   ],
   "source": [
    "# As a fraction of the total post-retrofit electricity consumption it's pretty small\n",
    "HRV_elec/elec_post_total"
   ]
  },
  {
   "cell_type": "code",
   "execution_count": 75,
   "metadata": {},
   "outputs": [
    {
     "data": {
      "text/plain": [
       "1556.3644669569198"
      ]
     },
     "execution_count": 75,
     "metadata": {},
     "output_type": "execute_result"
    }
   ],
   "source": [
    "# Add to Baseline\n",
    "baseline_elec_corr = baseline_elec + HRV_elec\n",
    "baseline_elec_corr"
   ]
  },
  {
   "cell_type": "markdown",
   "metadata": {},
   "source": [
    "### 6.6 Electricity Increase"
   ]
  },
  {
   "cell_type": "code",
   "execution_count": 76,
   "metadata": {},
   "outputs": [
    {
     "data": {
      "text/plain": [
       "3203.8955330430804"
      ]
     },
     "execution_count": 76,
     "metadata": {},
     "output_type": "execute_result"
    }
   ],
   "source": [
    "# Calculate electricity increase (due entirely to hybrid system)\n",
    "elec_increase = elec_post_total - baseline_elec_corr\n",
    "elec_increase"
   ]
  },
  {
   "cell_type": "markdown",
   "metadata": {},
   "source": [
    "### 6.7 Calculation Check\n",
    "\n",
    "To check if the gas savings is reasonable compared to the electricity incease, it possible to make a calculation to estimate the as-installed COP. This can be compared against a temperature-weighted COP based on manufacturer data. The as-installed number should be lower due to real-world factors like cycling and defrost. Manufacturer data is below."
   ]
  },
  {
   "cell_type": "markdown",
   "metadata": {},
   "source": [
    "![hp_specs.png](hp_specs.png)"
   ]
  },
  {
   "cell_type": "code",
   "execution_count": 77,
   "metadata": {},
   "outputs": [
    {
     "name": "stdout",
     "output_type": "stream",
     "text": [
      "coefficient of determination: 0.9927390391610988\n",
      "intercept: 3.1711272727272726\n",
      "slope: [0.09597818]\n"
     ]
    },
    {
     "data": {
      "image/png": "[encoded data removed]",
      "text/plain": [
       "<Figure size 504x360 with 1 Axes>"
      ]
     },
     "metadata": {
      "needs_background": "light"
     },
     "output_type": "display_data"
    }
   ],
   "source": [
    "# Manufacturer COP data \n",
    "COP_Temps_F = [65, 60, 55, 50, 45, 40, 35, 30, 25, 20]\n",
    "COP_Temps_C = [(x-32)*(5/9) for x in COP_Temps_F]\n",
    "COPs = [4.94, 4.68, 4.43, 4.17, 3.87, 3.54, 3.23, 2.98, 2.80, 2.67]\n",
    "\n",
    "# Visulualize COP data\n",
    "plt.figure(figsize = (7,5))\n",
    "plt.scatter(COP_Temps_C, COPs, color = step_blue)\n",
    "plt.xlabel('Outdoor Temperature [$^{o}$C]')\n",
    "plt.ylabel('COP')\n",
    "\n",
    "# Calculate regression model for COP\n",
    "x = np.array(COP_Temps_C).reshape((-1, 1))\n",
    "y = np.array(COPs)\n",
    "COP_model = LinearRegression()\n",
    "COP_model.fit(x, y)\n",
    "COP_model_r_sq = COP_model.score(x, y)\n",
    "print('coefficient of determination:', COP_model_r_sq)\n",
    "print('intercept:', COP_model.intercept_)\n",
    "print('slope:', COP_model.coef_)\n",
    "\n",
    "# Define COP Function\n",
    "def COP_func(Temp):\n",
    "    COP = COP_model.coef_[0] * Temp + COP_model.intercept_\n",
    "    return COP\n",
    "\n",
    "# Plot model\n",
    "x = np.arange(-7,20,1)\n",
    "y = [COP_func(a) for a in x]\n",
    "plt.plot(x,y, color = step_blue)    \n",
    "plt.title('Manufacturer Specs')\n",
    "plt.grid(ls='--')"
   ]
  },
  {
   "cell_type": "code",
   "execution_count": 78,
   "metadata": {},
   "outputs": [
    {
     "name": "stderr",
     "output_type": "stream",
     "text": [
      "C:\\ProgramData\\Anaconda3\\lib\\site-packages\\ipykernel_launcher.py:8: SettingWithCopyWarning: \n",
      "A value is trying to be set on a copy of a slice from a DataFrame.\n",
      "Try using .loc[row_indexer,col_indexer] = value instead\n",
      "\n",
      "See the caveats in the documentation: http://pandas.pydata.org/pandas-docs/stable/indexing.html#indexing-view-versus-copy\n",
      "  \n"
     ]
    },
    {
     "data": {
      "text/plain": [
       "3.4651695206611635"
      ]
     },
     "execution_count": 78,
     "metadata": {},
     "output_type": "execute_result"
    }
   ],
   "source": [
    "# Calculate temperature-weighted COP for post-retrofit period\n",
    "start = datetime.datetime.strptime('11/20/2020','%m/%d/%Y')\n",
    "stop = datetime.datetime.strptime('05/19/2021','%m/%d/%Y')\n",
    "post_weather_hp = toronto_weather.loc[(toronto_weather.index > start)&\n",
    "                                   (toronto_weather.index < stop)&\n",
    "                                   (toronto_weather.temperature < 14)&\n",
    "                                   (toronto_weather.temperature > -5)] # only operated above -5oC\n",
    "post_weather_hp['COP'] = [COP_func(x) for x in post_weather_hp.temperature]\n",
    "temp_weighted_COP = post_weather_hp.COP.mean()\n",
    "temp_weighted_COP"
   ]
  },
  {
   "cell_type": "markdown",
   "metadata": {},
   "source": [
    "The as-installed COP must be less than 3.5."
   ]
  },
  {
   "cell_type": "code",
   "execution_count": 79,
   "metadata": {},
   "outputs": [
    {
     "data": {
      "text/plain": [
       "2.7038642930956525"
      ]
     },
     "execution_count": 79,
     "metadata": {},
     "output_type": "execute_result"
    }
   ],
   "source": [
    "# Calculated an as-installed COP\n",
    "# Gas savings is from heat that was formerly delivered by a heat pump but is now delivered by heat pump\n",
    "\n",
    "gas_m3_to_kWh = 10.6 # Assume 10.6 kWh per m3\n",
    "\n",
    "as_installed_COP =  (gas_savings_SH * furnace_eff * gas_m3_to_kWh) / elec_increase\n",
    "as_installed_COP\n"
   ]
  },
  {
   "cell_type": "code",
   "execution_count": 80,
   "metadata": {},
   "outputs": [
    {
     "data": {
      "text/plain": [
       "0.780297840256816"
      ]
     },
     "execution_count": 80,
     "metadata": {},
     "output_type": "execute_result"
    }
   ],
   "source": [
    "as_installed_COP/temp_weighted_COP"
   ]
  },
  {
   "cell_type": "markdown",
   "metadata": {},
   "source": [
    "This is reasonable. Note that there was no robust monitoring of COP in this case study, and the as-installed is subject to uncertainty based on some of the estimates that have gone into the analysis. The purpose of calculated here is simply to show that gas savings that were attributed to the heat are reasonable. It was estimated that the as-installed COP was 22% lower than the manufacturer values. This is expected due to real-world factors like cycling and defrost. The amount of gas savings attributed to the heat pump, and it's estimated electricity consumption, are therefore reasonable."
   ]
  },
  {
   "cell_type": "markdown",
   "metadata": {},
   "source": [
    "### 6.8 Net Cost and Carbon"
   ]
  },
  {
   "cell_type": "code",
   "execution_count": 81,
   "metadata": {},
   "outputs": [
    {
     "data": {
      "text/plain": [
       "376.8401007890264"
      ]
     },
     "execution_count": 81,
     "metadata": {},
     "output_type": "execute_result"
    }
   ],
   "source": [
    "# Gas cost savings both DHW and hybrid system\n",
    "gas_cost_savings = gas_savings * gas_rate\n",
    "gas_cost_savings"
   ]
  },
  {
   "cell_type": "code",
   "execution_count": 82,
   "metadata": {},
   "outputs": [
    {
     "data": {
      "text/plain": [
       "356.86784078902645"
      ]
     },
     "execution_count": 82,
     "metadata": {},
     "output_type": "execute_result"
    }
   ],
   "source": [
    "# Gas cost savings for space heating\n",
    "gas_cost_savings_SH = gas_savings_SH * gas_rate\n",
    "gas_cost_savings_SH"
   ]
  },
  {
   "cell_type": "code",
   "execution_count": 83,
   "metadata": {},
   "outputs": [
    {
     "data": {
      "text/plain": [
       "402.59101860659086"
      ]
     },
     "execution_count": 83,
     "metadata": {},
     "output_type": "execute_result"
    }
   ],
   "source": [
    "# Electricity cost increase - entirely due to ASHP\n",
    "elec_increase_cost = elec_increase * elec_rate\n",
    "elec_increase_cost"
   ]
  },
  {
   "cell_type": "code",
   "execution_count": 84,
   "metadata": {},
   "outputs": [
    {
     "data": {
      "text/plain": [
       "45.72317781756442"
      ]
     },
     "execution_count": 84,
     "metadata": {},
     "output_type": "execute_result"
    }
   ],
   "source": [
    "# Net cost for SH\n",
    "net_SH_cost_increase = elec_increase_cost - gas_cost_savings_SH \n",
    "net_SH_cost_increase"
   ]
  },
  {
   "cell_type": "code",
   "execution_count": 85,
   "metadata": {},
   "outputs": [
    {
     "data": {
      "text/plain": [
       "25.75091781756447"
      ]
     },
     "execution_count": 85,
     "metadata": {},
     "output_type": "execute_result"
    }
   ],
   "source": [
    "# Net cost overall\n",
    "net_cost_increase =  elec_increase_cost - gas_cost_savings \n",
    "net_cost_increase"
   ]
  },
  {
   "cell_type": "code",
   "execution_count": 86,
   "metadata": {},
   "outputs": [
    {
     "data": {
      "text/plain": [
       "1716.2346541762338"
      ]
     },
     "execution_count": 86,
     "metadata": {},
     "output_type": "execute_result"
    }
   ],
   "source": [
    "# Net carbon savings for space heating\n",
    "net_carb_SH = gas_savings_SH * EF_gas\n",
    "net_carb_SH"
   ]
  },
  {
   "cell_type": "code",
   "execution_count": 87,
   "metadata": {},
   "outputs": [],
   "source": [
    "# Create lists for plot\n",
    "baseline = [gas_post_baseline_corr*gas_rate,baseline_elec_corr*elec_rate]\n",
    "postretrofit = [gas_post_act*gas_rate,elec_post_total*elec_rate]\n",
    "reduction = [net_cost_increase]"
   ]
  },
  {
   "cell_type": "code",
   "execution_count": 88,
   "metadata": {},
   "outputs": [
    {
     "data": {
      "text/plain": [
       "(0, 800)"
      ]
     },
     "execution_count": 88,
     "metadata": {},
     "output_type": "execute_result"
    },
    {
     "data": {
      "image/png": "[encoded data removed]",
      "text/plain": [
       "<Figure size 504x360 with 1 Axes>"
      ]
     },
     "metadata": {
      "needs_background": "light"
     },
     "output_type": "display_data"
    }
   ],
   "source": [
    "# Plot \n",
    "fig, ax = plt.subplots(figsize = (7,5))\n",
    "ax.bar([1,2], baseline, width = -0.4, align = 'edge', color = step_blue, label = 'Baseline')\n",
    "ax.bar([1,2], postretrofit, width = 0.4, align = 'edge', color = step_gold, label = 'Post-retrofit')\n",
    "ax.bar([3],reduction, color = 'grey', width = 0.4)\n",
    "ax.set_xticks([1,2,3])\n",
    "ax.set_xticklabels(['Natural Gas','Electricity', 'Increase'])\n",
    "ax.set_ylabel('Utility Costs [$]')\n",
    "ax.legend()\n",
    "ax.set_ylim(0,800)"
   ]
  },
  {
   "cell_type": "markdown",
   "metadata": {},
   "source": [
    "## 7 Annual Utility Costs to 2030\n",
    "\n",
    "At the end of 2020 the federal government announced a new carbon pricing schedule in their plan titled \"A Healthy Environment and A Healthy Economy.\" Starting in 2023, the federal price on carbon will increase at 15$\\$$ per year to reach $\\$$170 by 2030. This has significant implications for dual fuel heat pump systems. This is outlined in the dataframe below. It ignores other fluctuations in the cost of natural gas and simply adds additional charges onto the current rate."
   ]
  },
  {
   "cell_type": "code",
   "execution_count": 89,
   "metadata": {},
   "outputs": [
    {
     "data": {
      "text/html": [
       "<div>\n",
       "<style scoped>\n",
       "    .dataframe tbody tr th:only-of-type {\n",
       "        vertical-align: middle;\n",
       "    }\n",
       "\n",
       "    .dataframe tbody tr th {\n",
       "        vertical-align: top;\n",
       "    }\n",
       "\n",
       "    .dataframe thead th {\n",
       "        text-align: right;\n",
       "    }\n",
       "</style>\n",
       "<table border=\"1\" class=\"dataframe\">\n",
       "  <thead>\n",
       "    <tr style=\"text-align: right;\">\n",
       "      <th></th>\n",
       "      <th>Year</th>\n",
       "      <th>Carbon Tax ($/tonne)</th>\n",
       "      <th>Carbon Charge Natural Gas ($/m3)</th>\n",
       "    </tr>\n",
       "  </thead>\n",
       "  <tbody>\n",
       "    <tr>\n",
       "      <th>0</th>\n",
       "      <td>2021</td>\n",
       "      <td>40</td>\n",
       "      <td>0.078300</td>\n",
       "    </tr>\n",
       "    <tr>\n",
       "      <th>1</th>\n",
       "      <td>2022</td>\n",
       "      <td>50</td>\n",
       "      <td>0.097875</td>\n",
       "    </tr>\n",
       "    <tr>\n",
       "      <th>2</th>\n",
       "      <td>2023</td>\n",
       "      <td>65</td>\n",
       "      <td>0.127238</td>\n",
       "    </tr>\n",
       "    <tr>\n",
       "      <th>3</th>\n",
       "      <td>2024</td>\n",
       "      <td>80</td>\n",
       "      <td>0.156600</td>\n",
       "    </tr>\n",
       "    <tr>\n",
       "      <th>4</th>\n",
       "      <td>2025</td>\n",
       "      <td>95</td>\n",
       "      <td>0.185963</td>\n",
       "    </tr>\n",
       "    <tr>\n",
       "      <th>5</th>\n",
       "      <td>2026</td>\n",
       "      <td>110</td>\n",
       "      <td>0.215325</td>\n",
       "    </tr>\n",
       "    <tr>\n",
       "      <th>6</th>\n",
       "      <td>2027</td>\n",
       "      <td>125</td>\n",
       "      <td>0.244688</td>\n",
       "    </tr>\n",
       "    <tr>\n",
       "      <th>7</th>\n",
       "      <td>2028</td>\n",
       "      <td>140</td>\n",
       "      <td>0.274050</td>\n",
       "    </tr>\n",
       "    <tr>\n",
       "      <th>8</th>\n",
       "      <td>2029</td>\n",
       "      <td>155</td>\n",
       "      <td>0.303412</td>\n",
       "    </tr>\n",
       "    <tr>\n",
       "      <th>9</th>\n",
       "      <td>2030</td>\n",
       "      <td>170</td>\n",
       "      <td>0.332775</td>\n",
       "    </tr>\n",
       "  </tbody>\n",
       "</table>\n",
       "</div>"
      ],
      "text/plain": [
       "   Year  Carbon Tax ($/tonne)  Carbon Charge Natural Gas ($/m3)\n",
       "0  2021                    40                          0.078300\n",
       "1  2022                    50                          0.097875\n",
       "2  2023                    65                          0.127238\n",
       "3  2024                    80                          0.156600\n",
       "4  2025                    95                          0.185963\n",
       "5  2026                   110                          0.215325\n",
       "6  2027                   125                          0.244688\n",
       "7  2028                   140                          0.274050\n",
       "8  2029                   155                          0.303412\n",
       "9  2030                   170                          0.332775"
      ]
     },
     "execution_count": 89,
     "metadata": {},
     "output_type": "execute_result"
    }
   ],
   "source": [
    "# Import carbon charge data\n",
    "# You can see this aligns with carbon charge data from enbridge\n",
    "# https://www.enbridgegas.com/residential/my-account/rates/federal-carbon-charge (below)\n",
    "nat_gas_rate_df = pd.read_csv(\"nat_gas_carbon_pricing.csv\")\n",
    "nat_gas_rate_df.head(10)"
   ]
  },
  {
   "cell_type": "markdown",
   "metadata": {},
   "source": [
    "![Enbridge_CC2.png](Enbridge_CC2.png)"
   ]
  },
  {
   "cell_type": "code",
   "execution_count": 91,
   "metadata": {},
   "outputs": [
    {
     "data": {
      "text/html": [
       "<div>\n",
       "<style scoped>\n",
       "    .dataframe tbody tr th:only-of-type {\n",
       "        vertical-align: middle;\n",
       "    }\n",
       "\n",
       "    .dataframe tbody tr th {\n",
       "        vertical-align: top;\n",
       "    }\n",
       "\n",
       "    .dataframe thead th {\n",
       "        text-align: right;\n",
       "    }\n",
       "</style>\n",
       "<table border=\"1\" class=\"dataframe\">\n",
       "  <thead>\n",
       "    <tr style=\"text-align: right;\">\n",
       "      <th></th>\n",
       "      <th>Year</th>\n",
       "      <th>Carbon Tax ($/tonne)</th>\n",
       "      <th>Carbon Charge Natural Gas ($/m3)</th>\n",
       "      <th>Gas_Rate</th>\n",
       "    </tr>\n",
       "  </thead>\n",
       "  <tbody>\n",
       "    <tr>\n",
       "      <th>0</th>\n",
       "      <td>2021</td>\n",
       "      <td>40</td>\n",
       "      <td>0.078300</td>\n",
       "      <td>0.393300</td>\n",
       "    </tr>\n",
       "    <tr>\n",
       "      <th>1</th>\n",
       "      <td>2022</td>\n",
       "      <td>50</td>\n",
       "      <td>0.097875</td>\n",
       "      <td>0.412875</td>\n",
       "    </tr>\n",
       "    <tr>\n",
       "      <th>2</th>\n",
       "      <td>2023</td>\n",
       "      <td>65</td>\n",
       "      <td>0.127238</td>\n",
       "      <td>0.442238</td>\n",
       "    </tr>\n",
       "    <tr>\n",
       "      <th>3</th>\n",
       "      <td>2024</td>\n",
       "      <td>80</td>\n",
       "      <td>0.156600</td>\n",
       "      <td>0.471600</td>\n",
       "    </tr>\n",
       "    <tr>\n",
       "      <th>4</th>\n",
       "      <td>2025</td>\n",
       "      <td>95</td>\n",
       "      <td>0.185963</td>\n",
       "      <td>0.500962</td>\n",
       "    </tr>\n",
       "    <tr>\n",
       "      <th>5</th>\n",
       "      <td>2026</td>\n",
       "      <td>110</td>\n",
       "      <td>0.215325</td>\n",
       "      <td>0.530325</td>\n",
       "    </tr>\n",
       "    <tr>\n",
       "      <th>6</th>\n",
       "      <td>2027</td>\n",
       "      <td>125</td>\n",
       "      <td>0.244688</td>\n",
       "      <td>0.559688</td>\n",
       "    </tr>\n",
       "    <tr>\n",
       "      <th>7</th>\n",
       "      <td>2028</td>\n",
       "      <td>140</td>\n",
       "      <td>0.274050</td>\n",
       "      <td>0.589050</td>\n",
       "    </tr>\n",
       "    <tr>\n",
       "      <th>8</th>\n",
       "      <td>2029</td>\n",
       "      <td>155</td>\n",
       "      <td>0.303412</td>\n",
       "      <td>0.618413</td>\n",
       "    </tr>\n",
       "    <tr>\n",
       "      <th>9</th>\n",
       "      <td>2030</td>\n",
       "      <td>170</td>\n",
       "      <td>0.332775</td>\n",
       "      <td>0.647775</td>\n",
       "    </tr>\n",
       "  </tbody>\n",
       "</table>\n",
       "</div>"
      ],
      "text/plain": [
       "   Year  Carbon Tax ($/tonne)  Carbon Charge Natural Gas ($/m3)  Gas_Rate\n",
       "0  2021                    40                          0.078300  0.393300\n",
       "1  2022                    50                          0.097875  0.412875\n",
       "2  2023                    65                          0.127238  0.442238\n",
       "3  2024                    80                          0.156600  0.471600\n",
       "4  2025                    95                          0.185963  0.500962\n",
       "5  2026                   110                          0.215325  0.530325\n",
       "6  2027                   125                          0.244688  0.559688\n",
       "7  2028                   140                          0.274050  0.589050\n",
       "8  2029                   155                          0.303412  0.618413\n",
       "9  2030                   170                          0.332775  0.647775"
      ]
     },
     "execution_count": 91,
     "metadata": {},
     "output_type": "execute_result"
    }
   ],
   "source": [
    "# Add cost escalation due to carbon charge\n",
    "gas_rate_no_carbon_charge = gas_rate - 0.078\n",
    "nat_gas_rate_df['Gas_Rate'] = [gas_rate_no_carbon_charge + x for x in nat_gas_rate_df['Carbon Charge Natural Gas ($/m3)']]\n",
    "nat_gas_rate_df.head(10)"
   ]
  },
  {
   "cell_type": "code",
   "execution_count": 92,
   "metadata": {},
   "outputs": [
    {
     "data": {
      "text/html": [
       "<div>\n",
       "<style scoped>\n",
       "    .dataframe tbody tr th:only-of-type {\n",
       "        vertical-align: middle;\n",
       "    }\n",
       "\n",
       "    .dataframe tbody tr th {\n",
       "        vertical-align: top;\n",
       "    }\n",
       "\n",
       "    .dataframe thead th {\n",
       "        text-align: right;\n",
       "    }\n",
       "</style>\n",
       "<table border=\"1\" class=\"dataframe\">\n",
       "  <thead>\n",
       "    <tr style=\"text-align: right;\">\n",
       "      <th></th>\n",
       "      <th>Year</th>\n",
       "      <th>Carbon Tax ($/tonne)</th>\n",
       "      <th>Carbon Charge Natural Gas ($/m3)</th>\n",
       "      <th>Gas_Rate</th>\n",
       "      <th>Elec_Rate</th>\n",
       "    </tr>\n",
       "  </thead>\n",
       "  <tbody>\n",
       "    <tr>\n",
       "      <th>0</th>\n",
       "      <td>2021</td>\n",
       "      <td>40</td>\n",
       "      <td>0.078300</td>\n",
       "      <td>0.393300</td>\n",
       "      <td>0.125657</td>\n",
       "    </tr>\n",
       "    <tr>\n",
       "      <th>1</th>\n",
       "      <td>2022</td>\n",
       "      <td>50</td>\n",
       "      <td>0.097875</td>\n",
       "      <td>0.412875</td>\n",
       "      <td>0.128170</td>\n",
       "    </tr>\n",
       "    <tr>\n",
       "      <th>2</th>\n",
       "      <td>2023</td>\n",
       "      <td>65</td>\n",
       "      <td>0.127238</td>\n",
       "      <td>0.442238</td>\n",
       "      <td>0.130733</td>\n",
       "    </tr>\n",
       "    <tr>\n",
       "      <th>3</th>\n",
       "      <td>2024</td>\n",
       "      <td>80</td>\n",
       "      <td>0.156600</td>\n",
       "      <td>0.471600</td>\n",
       "      <td>0.133348</td>\n",
       "    </tr>\n",
       "    <tr>\n",
       "      <th>4</th>\n",
       "      <td>2025</td>\n",
       "      <td>95</td>\n",
       "      <td>0.185963</td>\n",
       "      <td>0.500962</td>\n",
       "      <td>0.136015</td>\n",
       "    </tr>\n",
       "    <tr>\n",
       "      <th>5</th>\n",
       "      <td>2026</td>\n",
       "      <td>110</td>\n",
       "      <td>0.215325</td>\n",
       "      <td>0.530325</td>\n",
       "      <td>0.138735</td>\n",
       "    </tr>\n",
       "    <tr>\n",
       "      <th>6</th>\n",
       "      <td>2027</td>\n",
       "      <td>125</td>\n",
       "      <td>0.244688</td>\n",
       "      <td>0.559688</td>\n",
       "      <td>0.141510</td>\n",
       "    </tr>\n",
       "    <tr>\n",
       "      <th>7</th>\n",
       "      <td>2028</td>\n",
       "      <td>140</td>\n",
       "      <td>0.274050</td>\n",
       "      <td>0.589050</td>\n",
       "      <td>0.144340</td>\n",
       "    </tr>\n",
       "    <tr>\n",
       "      <th>8</th>\n",
       "      <td>2029</td>\n",
       "      <td>155</td>\n",
       "      <td>0.303412</td>\n",
       "      <td>0.618413</td>\n",
       "      <td>0.147227</td>\n",
       "    </tr>\n",
       "    <tr>\n",
       "      <th>9</th>\n",
       "      <td>2030</td>\n",
       "      <td>170</td>\n",
       "      <td>0.332775</td>\n",
       "      <td>0.647775</td>\n",
       "      <td>0.150171</td>\n",
       "    </tr>\n",
       "  </tbody>\n",
       "</table>\n",
       "</div>"
      ],
      "text/plain": [
       "   Year  Carbon Tax ($/tonne)  Carbon Charge Natural Gas ($/m3)  Gas_Rate  \\\n",
       "0  2021                    40                          0.078300  0.393300   \n",
       "1  2022                    50                          0.097875  0.412875   \n",
       "2  2023                    65                          0.127238  0.442238   \n",
       "3  2024                    80                          0.156600  0.471600   \n",
       "4  2025                    95                          0.185963  0.500962   \n",
       "5  2026                   110                          0.215325  0.530325   \n",
       "6  2027                   125                          0.244688  0.559688   \n",
       "7  2028                   140                          0.274050  0.589050   \n",
       "8  2029                   155                          0.303412  0.618413   \n",
       "9  2030                   170                          0.332775  0.647775   \n",
       "\n",
       "   Elec_Rate  \n",
       "0   0.125657  \n",
       "1   0.128170  \n",
       "2   0.130733  \n",
       "3   0.133348  \n",
       "4   0.136015  \n",
       "5   0.138735  \n",
       "6   0.141510  \n",
       "7   0.144340  \n",
       "8   0.147227  \n",
       "9   0.150171  "
      ]
     },
     "execution_count": 92,
     "metadata": {},
     "output_type": "execute_result"
    }
   ],
   "source": [
    "# Add electricity cost escalation - \n",
    "# Assume 2% per year there has been no recent long-term energy plan to for a better estimate\n",
    "# Just add it to natural gas data frame\n",
    "nat_gas_rate_df['Elec_Rate'] = [elec_rate*(1.02)**x for x in nat_gas_rate_df.index]\n",
    "nat_gas_rate_df.head(10)"
   ]
  },
  {
   "cell_type": "code",
   "execution_count": 93,
   "metadata": {},
   "outputs": [
    {
     "data": {
      "text/html": [
       "<div>\n",
       "<style scoped>\n",
       "    .dataframe tbody tr th:only-of-type {\n",
       "        vertical-align: middle;\n",
       "    }\n",
       "\n",
       "    .dataframe tbody tr th {\n",
       "        vertical-align: top;\n",
       "    }\n",
       "\n",
       "    .dataframe thead th {\n",
       "        text-align: right;\n",
       "    }\n",
       "</style>\n",
       "<table border=\"1\" class=\"dataframe\">\n",
       "  <thead>\n",
       "    <tr style=\"text-align: right;\">\n",
       "      <th></th>\n",
       "      <th>Year</th>\n",
       "      <th>Carbon Tax ($/tonne)</th>\n",
       "      <th>Carbon Charge Natural Gas ($/m3)</th>\n",
       "      <th>Gas_Rate</th>\n",
       "      <th>Elec_Rate</th>\n",
       "      <th>Annual_Gas_Savings</th>\n",
       "      <th>Annual_Elec_Increase</th>\n",
       "      <th>Annual_Net_Cost_Change</th>\n",
       "    </tr>\n",
       "  </thead>\n",
       "  <tbody>\n",
       "    <tr>\n",
       "      <th>0</th>\n",
       "      <td>2021</td>\n",
       "      <td>40</td>\n",
       "      <td>0.078300</td>\n",
       "      <td>0.393300</td>\n",
       "      <td>0.125657</td>\n",
       "      <td>357.140259</td>\n",
       "      <td>402.591019</td>\n",
       "      <td>45.450760</td>\n",
       "    </tr>\n",
       "    <tr>\n",
       "      <th>1</th>\n",
       "      <td>2022</td>\n",
       "      <td>50</td>\n",
       "      <td>0.097875</td>\n",
       "      <td>0.412875</td>\n",
       "      <td>0.128170</td>\n",
       "      <td>374.915546</td>\n",
       "      <td>410.642839</td>\n",
       "      <td>35.727293</td>\n",
       "    </tr>\n",
       "    <tr>\n",
       "      <th>2</th>\n",
       "      <td>2023</td>\n",
       "      <td>65</td>\n",
       "      <td>0.127238</td>\n",
       "      <td>0.442238</td>\n",
       "      <td>0.130733</td>\n",
       "      <td>401.578478</td>\n",
       "      <td>418.855696</td>\n",
       "      <td>17.277218</td>\n",
       "    </tr>\n",
       "    <tr>\n",
       "      <th>3</th>\n",
       "      <td>2024</td>\n",
       "      <td>80</td>\n",
       "      <td>0.156600</td>\n",
       "      <td>0.471600</td>\n",
       "      <td>0.133348</td>\n",
       "      <td>428.241409</td>\n",
       "      <td>427.232810</td>\n",
       "      <td>-1.008599</td>\n",
       "    </tr>\n",
       "    <tr>\n",
       "      <th>4</th>\n",
       "      <td>2025</td>\n",
       "      <td>95</td>\n",
       "      <td>0.185963</td>\n",
       "      <td>0.500962</td>\n",
       "      <td>0.136015</td>\n",
       "      <td>454.904340</td>\n",
       "      <td>435.777466</td>\n",
       "      <td>-19.126874</td>\n",
       "    </tr>\n",
       "    <tr>\n",
       "      <th>5</th>\n",
       "      <td>2026</td>\n",
       "      <td>110</td>\n",
       "      <td>0.215325</td>\n",
       "      <td>0.530325</td>\n",
       "      <td>0.138735</td>\n",
       "      <td>481.567271</td>\n",
       "      <td>444.493015</td>\n",
       "      <td>-37.074256</td>\n",
       "    </tr>\n",
       "    <tr>\n",
       "      <th>6</th>\n",
       "      <td>2027</td>\n",
       "      <td>125</td>\n",
       "      <td>0.244688</td>\n",
       "      <td>0.559688</td>\n",
       "      <td>0.141510</td>\n",
       "      <td>508.230203</td>\n",
       "      <td>453.382875</td>\n",
       "      <td>-54.847327</td>\n",
       "    </tr>\n",
       "    <tr>\n",
       "      <th>7</th>\n",
       "      <td>2028</td>\n",
       "      <td>140</td>\n",
       "      <td>0.274050</td>\n",
       "      <td>0.589050</td>\n",
       "      <td>0.144340</td>\n",
       "      <td>534.893134</td>\n",
       "      <td>462.450533</td>\n",
       "      <td>-72.442601</td>\n",
       "    </tr>\n",
       "    <tr>\n",
       "      <th>8</th>\n",
       "      <td>2029</td>\n",
       "      <td>155</td>\n",
       "      <td>0.303412</td>\n",
       "      <td>0.618413</td>\n",
       "      <td>0.147227</td>\n",
       "      <td>561.556065</td>\n",
       "      <td>471.699544</td>\n",
       "      <td>-89.856521</td>\n",
       "    </tr>\n",
       "    <tr>\n",
       "      <th>9</th>\n",
       "      <td>2030</td>\n",
       "      <td>170</td>\n",
       "      <td>0.332775</td>\n",
       "      <td>0.647775</td>\n",
       "      <td>0.150171</td>\n",
       "      <td>588.218996</td>\n",
       "      <td>481.133535</td>\n",
       "      <td>-107.085462</td>\n",
       "    </tr>\n",
       "  </tbody>\n",
       "</table>\n",
       "</div>"
      ],
      "text/plain": [
       "   Year  Carbon Tax ($/tonne)  Carbon Charge Natural Gas ($/m3)  Gas_Rate  \\\n",
       "0  2021                    40                          0.078300  0.393300   \n",
       "1  2022                    50                          0.097875  0.412875   \n",
       "2  2023                    65                          0.127238  0.442238   \n",
       "3  2024                    80                          0.156600  0.471600   \n",
       "4  2025                    95                          0.185963  0.500962   \n",
       "5  2026                   110                          0.215325  0.530325   \n",
       "6  2027                   125                          0.244688  0.559688   \n",
       "7  2028                   140                          0.274050  0.589050   \n",
       "8  2029                   155                          0.303412  0.618413   \n",
       "9  2030                   170                          0.332775  0.647775   \n",
       "\n",
       "   Elec_Rate  Annual_Gas_Savings  Annual_Elec_Increase  Annual_Net_Cost_Change  \n",
       "0   0.125657          357.140259            402.591019               45.450760  \n",
       "1   0.128170          374.915546            410.642839               35.727293  \n",
       "2   0.130733          401.578478            418.855696               17.277218  \n",
       "3   0.133348          428.241409            427.232810               -1.008599  \n",
       "4   0.136015          454.904340            435.777466              -19.126874  \n",
       "5   0.138735          481.567271            444.493015              -37.074256  \n",
       "6   0.141510          508.230203            453.382875              -54.847327  \n",
       "7   0.144340          534.893134            462.450533              -72.442601  \n",
       "8   0.147227          561.556065            471.699544              -89.856521  \n",
       "9   0.150171          588.218996            481.133535             -107.085462  "
      ]
     },
     "execution_count": 93,
     "metadata": {},
     "output_type": "execute_result"
    }
   ],
   "source": [
    "# Add utility costs\n",
    "nat_gas_rate_df['Annual_Gas_Savings'] = [gas_savings_SH*x for x in nat_gas_rate_df.Gas_Rate]\n",
    "nat_gas_rate_df['Annual_Elec_Increase'] = [elec_increase*x for x in nat_gas_rate_df.Elec_Rate]\n",
    "nat_gas_rate_df['Annual_Net_Cost_Change'] = [y - x for x,y in zip(nat_gas_rate_df.Annual_Gas_Savings,nat_gas_rate_df.Annual_Elec_Increase)]\n",
    "nat_gas_rate_df.head(10)"
   ]
  },
  {
   "cell_type": "code",
   "execution_count": 94,
   "metadata": {},
   "outputs": [
    {
     "data": {
      "text/plain": [
       "-282.9863709885701"
      ]
     },
     "execution_count": 94,
     "metadata": {},
     "output_type": "execute_result"
    }
   ],
   "source": [
    "# Total net cost to 2030\n",
    "nat_gas_rate_df.Annual_Net_Cost_Change.sum()"
   ]
  },
  {
   "cell_type": "code",
   "execution_count": 95,
   "metadata": {},
   "outputs": [
    {
     "data": {
      "text/plain": [
       "Text(0, 0.5, 'Net Annual Utility Cost Change [$]')"
      ]
     },
     "execution_count": 95,
     "metadata": {},
     "output_type": "execute_result"
    },
    {
     "data": {
      "image/png": "[encoded data removed]",
      "text/plain": [
       "<Figure size 504x360 with 1 Axes>"
      ]
     },
     "metadata": {
      "needs_background": "light"
     },
     "output_type": "display_data"
    }
   ],
   "source": [
    "# Visualize\n",
    "plt.figure(figsize=(7,5))\n",
    "plt.bar(nat_gas_rate_df.Year,nat_gas_rate_df.Annual_Net_Cost_Change,color=step_blue, align = 'center', width = 0.4)\n",
    "plt.grid(ls='--')\n",
    "plt.ylabel('Net Annual Utility Cost Change [$]')"
   ]
  },
  {
   "cell_type": "code",
   "execution_count": null,
   "metadata": {},
   "outputs": [],
   "source": []
  }
 ],
 "metadata": {
  "kernelspec": {
   "display_name": "Python 3",
   "language": "python",
   "name": "python3"
  },
  "language_info": {
   "codemirror_mode": {
    "name": "ipython",
    "version": 3
   },
   "file_extension": ".py",
   "mimetype": "text/x-python",
   "name": "python",
   "nbconvert_exporter": "python",
   "pygments_lexer": "ipython3",
   "version": "3.7.3"
  }
 },
 "nbformat": 4,
 "nbformat_minor": 2
}
